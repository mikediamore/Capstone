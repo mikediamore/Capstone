{
 "cells": [
  {
   "cell_type": "markdown",
   "metadata": {},
   "source": [
    "# Goal\n",
    "\n",
    "1.) Rewrite full model in tensorflow\n",
    "\n",
    "2.) Take a bayesian approach and add priors on the weights to quantify uncertainity"
   ]
  },
  {
   "cell_type": "code",
   "execution_count": 1,
   "metadata": {
    "collapsed": false
   },
   "outputs": [
    {
     "name": "stderr",
     "output_type": "stream",
     "text": [
      "Using TensorFlow backend.\n"
     ]
    }
   ],
   "source": [
    "#!/usr/bin/env python3\n",
    "# -*- coding: utf-8 -*-\n",
    "\"\"\"\n",
    "@author: Michael Di Amore\n",
    "\"\"\"\n",
    "\n",
    "#Had to use python 2 for TF 1.4.0 was having problems with my virutal env\n",
    "from __future__ import print_function\n",
    "from __future__ import division\n",
    "\n",
    "%matplotlib inline\n",
    "import tensorflow as tf\n",
    "import Query as query\n",
    "import quandl \n",
    "import numpy as np\n",
    "# np.random.seed(12345) # Set seed\n",
    "\n",
    "import pandas as pd\n",
    "from imblearn.combine import SMOTEENN \n",
    "from sklearn.model_selection import train_test_split\n",
    "from sklearn.preprocessing import StandardScaler,OneHotEncoder\n",
    "from sklearn.utils import shuffle\n",
    "from sklearn.decomposition import PCA\n",
    "\n",
    "\n",
    "import pdb\n",
    "from sklearn.metrics import accuracy_score,f1_score,roc_auc_score,recall_score,precision_score\n",
    "import warnings\n",
    "import matplotlib.pyplot as plt\n",
    "\n",
    "import tensorflow as tf\n",
    "import edward as ed\n",
    "\n",
    "import keras\n",
    "import tensorflow.contrib.keras as k\n"
   ]
  },
  {
   "cell_type": "markdown",
   "metadata": {},
   "source": [
    "## Data "
   ]
  },
  {
   "cell_type": "code",
   "execution_count": 2,
   "metadata": {
    "collapsed": false
   },
   "outputs": [
    {
     "name": "stdout",
     "output_type": "stream",
     "text": [
      "Loading Data...\n",
      "Data Loaded\n"
     ]
    }
   ],
   "source": [
    "####\n",
    "#  Load Data. If you don't want to / can't run the query.\n",
    "# Basically this is all data from 2007-01-01 to 2017-10-06\n",
    "load_data = True\n",
    "if load_data == True:\n",
    "    print ('Loading Data...')\n",
    "    df_2001_2006 = pd.read_csv('Gdelt_events_20000101_20061231.csv')\n",
    "    df_2001_2006 = df_2001_2006.set_index('sqldate',drop=True).sort_index()\n",
    "    df_2007_2013 = pd.read_csv('Gdelt_events_20070101_20131231.csv')\n",
    "    df_2007_2013 = df_2007_2013.set_index('sqldate',drop=True).sort_index()\n",
    "    df_2014_01 = pd.read_csv('Gdelt_events_20140101_20140531.csv')\n",
    "    df_2014_01  = df_2014_01 .set_index('sqldate',drop=True).sort_index()\n",
    "    df_2014_02 = pd.read_csv('Gdelt_events_20140601_20141231.csv')\n",
    "    df_2014_02  = df_2014_02 .set_index('sqldate',drop=True).sort_index()\n",
    "    \n",
    "    df_2015 = pd.read_csv('Gdelt_events_20150101_20151231.csv')\n",
    "    df_2015 = df_2015.set_index('sqldate',drop=True).sort_index()\n",
    "    df_2016_2017 = pd.read_csv('Gdelt_events_20160101_20171006.csv')\n",
    "    df_2016_2017 = df_2016_2017.set_index('sqldate',drop=True).sort_index()\n",
    "    gdelt_df = pd.concat([df_2001_2006,df_2007_2013,df_2014_01,df_2014_02,df_2015,df_2016_2017])\n",
    "    \n",
    "    del df_2001_2006,df_2007_2013,df_2014_01,df_2014_02,df_2015,df_2016_2017\n",
    "    \n",
    "####\n",
    "# Set Params\n",
    "lookback_window = int(np.round(252/2))\n",
    "number_stdev = 3.5\n",
    "daily_security_vol_target = .15/np.sqrt(252) #.15 is the 10 year SPY volalility found here\n",
    "#http://performance.morningstar.com/funds/etf/ratings-risk.action?t=SPY&region=usa&culture=en-US\n",
    "####\n",
    "\n",
    "proj_id = 'capstone-v0'\n",
    "start_date = '2000-01-01'\n",
    "end_date = '2017-10-06'\n",
    "ticker = '^GSPC'\n",
    "my_query = query.query_tool(proj_id,start_date,end_date,ticker)\n",
    "sql_query = \"\"\"\n",
    "            SELECT Actor1Name, GoldsteinScale,NumMentions,sourceurl,\n",
    "            sqldate, avgtone, numarticles, numsources,  \n",
    "            FROM [gdelt-bq:full.events] \n",
    "            WHERE sqldate > 20010101 and sqldate <= 20061231  and \n",
    "            Actor1Code like '%BUS%'and\n",
    "            Actor1Geo_CountryCode like \"%US%\"\n",
    "            \"\"\"\n",
    "if load_data == False:\n",
    "    print ('Querying Gdelt...')\n",
    "    my_query.query_gdelt(sql_query)\n",
    "    my_query.gdelt_df = my_query.gdelt_df.set_index('sqldate',drop=True).sort_index()\n",
    "    df = my_query.gdelt_df.copy(True)\n",
    "\n",
    "#Creating Labels. i.e. if change in spx_return is x standard deviations\n",
    "security_prices = my_query.query_yahoo()\n",
    "security_return = np.log(security_prices['Adj Close']).diff() #log Return\n",
    "security_vol = security_return.rolling(window=lookback_window).std().dropna()\n",
    "security_mean = security_return.rolling(window=lookback_window).mean().dropna()\n",
    "security_vol.name = 'Volatility'\n",
    "security_return = security_return.loc[security_vol.index] #First entry is NAN because of return\n",
    "# day_over_day_diff = np.abs(security_return.diff())#can subtract because of log returns\n",
    "# event_idx = [(np.abs(security_mean)+(security_vol * 3.5)) < np.abs(security_return)]\n",
    "event_idx = [((security_mean + security_vol * number_stdev) < security_return) | ((security_mean - security_vol *number_stdev) > security_return) ]\n",
    "event_idx = np.array(event_idx).astype(int).flatten()\n",
    "event_idx = pd.Series(event_idx,index=security_return.index)\n",
    "print ('Data Loaded')"
   ]
  },
  {
   "cell_type": "code",
   "execution_count": 3,
   "metadata": {
    "collapsed": false
   },
   "outputs": [
    {
     "name": "stdout",
     "output_type": "stream",
     "text": [
      "Quandl Loaded\n"
     ]
    }
   ],
   "source": [
    "api_key =  'reqa36mksyfgx9BR6r88'\n",
    "wti_co = my_query.query_quandl(\"FRED/DCOILWTICO\",api_key)\n",
    "unemploy = my_query.query_quandl(\"FRED/UNEMPLOY\",api_key)\n",
    "m1v = my_query.query_quandl(\"FRED/M1V\",api_key)\n",
    "m2v = my_query.query_quandl(\"FRED/M2V\",api_key)\n",
    "stressindex = my_query.query_quandl(\"FRED/STLFSI\", api_key)\n",
    "dff = my_query.query_quandl(\"FRED/DFF\",api_key)\n",
    "my_query.set_ticker('^VIX')\n",
    "vix = my_query.query_yahoo()\n",
    "vix = vix['Adj Close']\n",
    "vix.name = 'VIX'\n",
    "print ('Quandl Loaded')\n",
    "\n",
    "#Use GLD as proxy for gold. Better to use the futures but don't have good continuous contracts\n",
    "# my_query.set_ticker('GLD')\n",
    "# gld = my_query.query_yahoo()\n",
    "# gld = gld['Adj Close']\n",
    "\n",
    "#Use Continuous Future of Front month gold contract as gold\n",
    "# gold = my_query.query_quandl(\"SCF/CME_GC1_OR\",api_key)\n",
    "# gold = gold['Settle']\n",
    "# #Use Continuous Future of front month  crude as oil\n",
    "# oil = my_query.query_quandl(\"SCF/ICE_B1_OB\",api_key)\n",
    "# oil = oil['Settle']"
   ]
  },
  {
   "cell_type": "code",
   "execution_count": 4,
   "metadata": {
    "collapsed": false
   },
   "outputs": [],
   "source": [
    "quandl_others = pd.concat([wti_co,unemploy,m1v,m2v,stressindex,vix,dff],axis=1)\n",
    "quandl_others.columns = ['wit_co','unemploy','m1v','m2v','slsi','vix','dff']\n",
    "quandl_others.ffill(inplace=True)\n",
    "quandl_others.fillna(0,inplace=True)"
   ]
  },
  {
   "cell_type": "code",
   "execution_count": 5,
   "metadata": {
    "collapsed": true
   },
   "outputs": [],
   "source": [
    "def normalize_ts(series,lookback=lookback_window):\n",
    "    rolling_mean = series.rolling(window=lookback).mean()\n",
    "    rolling_std = series.rolling(window=lookback).std() + .10**3\n",
    "    normalized = (series-rolling_mean)/rolling_std\n",
    "    normalized = normalized.dropna()\n",
    "    return(normalized)"
   ]
  },
  {
   "cell_type": "code",
   "execution_count": 6,
   "metadata": {
    "collapsed": false
   },
   "outputs": [
    {
     "name": "stdout",
     "output_type": "stream",
     "text": [
      "Scaling using custom scaler\n"
     ]
    }
   ],
   "source": [
    "#Collapse numerical data into x,y pairs by taking means\n",
    "collapsed = gdelt_df.groupby(by=gdelt_df.index).mean()\n",
    "\n",
    "#Shift data so as only to use yesterday's news for tomorrow's prediction\n",
    "#i.e. we shift forward, using yesterday data as today\n",
    "collapsed_shifted = collapsed.shift(1)\n",
    "quandl_shifted = quandl_others.shift(1)\n",
    "\n",
    "#Scale the data in such a way that we aren't looking forward into the feature\n",
    "print ('Scaling using custom scaler')\n",
    "collapsed_shifted = collapsed_shifted.apply(normalize_ts)\n",
    "quandl_shifted = quandl_shifted.apply(normalize_ts)\n",
    "\n",
    "collapsed_shifted.index = pd.to_datetime(collapsed_shifted.index,format='%Y%m%d')\n",
    "collapsed_shifted = collapsed_shifted.loc[security_vol.index].dropna()\n",
    "collapsed_shifted = pd.concat([collapsed_shifted,quandl_shifted],axis=1)\n",
    "event_idx = event_idx.dropna()\n",
    "collapsed_shifted = collapsed_shifted.loc[event_idx.index]"
   ]
  },
  {
   "cell_type": "code",
   "execution_count": 7,
   "metadata": {
    "collapsed": false
   },
   "outputs": [
    {
     "name": "stdout",
     "output_type": "stream",
     "text": [
      "Creating train test split...\n"
     ]
    }
   ],
   "source": [
    "print ('Creating train test split...')\n",
    "X_train,X_test,Y_train,Y_test = train_test_split(collapsed_shifted,event_idx,stratify=None,test_size=.20,shuffle=False)\n",
    "X_train,X_val,Y_train,Y_val = train_test_split(X_train,Y_train,test_size=.20,stratify=None,shuffle=False)\n",
    "\n",
    "#Creating Copies of Data Frames these will be useful later for debugging\n",
    "X_train_df = X_train.copy(True)\n",
    "Y_train_df = Y_train.copy(True)\n",
    "Y_val_df = Y_val.copy(True)\n",
    "X_train  = np.array(X_train)\n",
    "X_val = np.array(X_val)\n",
    "X_test = np.array(X_test)"
   ]
  },
  {
   "cell_type": "code",
   "execution_count": 8,
   "metadata": {
    "collapsed": false
   },
   "outputs": [
    {
     "name": "stdout",
     "output_type": "stream",
     "text": [
      "Length of X_train before smote\n",
      "2780\n",
      "Number of Positives before smote\n",
      "11\n",
      "Performing Oversampling/Undersampling...\n",
      "Length of X_train after smote\n",
      "5482\n",
      "Number of Positive samples after smote\n",
      "2769\n"
     ]
    }
   ],
   "source": [
    "\n",
    "pca = PCA(whiten=True)\n",
    "X_train = pca.fit_transform(X_train)\n",
    "X_test = pca.transform(X_test)\n",
    "X_val = pca.transform(X_val)\n",
    "\n",
    "print ('Length of X_train before smote')\n",
    "print (len(X_train))\n",
    "print ('Number of Positives before smote')\n",
    "print (Y_train.sum())\n",
    "\n",
    "\n",
    "print ('Performing Oversampling/Undersampling...')\n",
    "s = SMOTEENN()\n",
    "X_train,Y_train= s.fit_sample(X_train,Y_train)\n",
    "\n",
    "print ('Length of X_train after smote')\n",
    "print (len(X_train))\n",
    "\n",
    "print ('Number of Positive samples after smote')\n",
    "print (Y_train.sum())\n",
    "\n",
    "# print ('Proportion after smote {}'.format(sum(Y_train)/len(Y_train))\n",
    "\n",
    "\n",
    "# X_train = X_train.reshape(-1,X_train.shape[1],1)\n",
    "# X_test = X_test.reshape(-1,X_test.shape[1],1)\n",
    "# X_val = X_val.reshape(-1,X_val.shape[1],1)\n",
    "# print ('Done!')"
   ]
  },
  {
   "cell_type": "markdown",
   "metadata": {},
   "source": [
    "# Edward Model\n",
    "\n"
   ]
  },
  {
   "cell_type": "code",
   "execution_count": 9,
   "metadata": {
    "collapsed": true
   },
   "outputs": [],
   "source": [
    "import tensorflow.contrib.keras as k\n",
    "import tensorflow.contrib.slim as slim\n",
    "from edward.models import BernoulliWithSigmoidProbs,StudentT,Normal,Categorical,Bernoulli,Empirical,Gamma"
   ]
  },
  {
   "cell_type": "code",
   "execution_count": 10,
   "metadata": {
    "collapsed": false
   },
   "outputs": [
    {
     "name": "stderr",
     "output_type": "stream",
     "text": [
      "/home/ubuntu/src/anaconda3/lib/python3.5/site-packages/ipykernel/__main__.py:15: FutureWarning: reshape is deprecated and will raise in a subsequent release. Please use .values.reshape(...) instead\n"
     ]
    }
   ],
   "source": [
    "D = X_train.shape[1]\n",
    "Y_val = Y_val\n",
    "X_train = X_train.astype(np.float32)\n",
    "X_val = X_val.astype(np.float32)\n",
    "Y_train = Y_train.astype(np.int32)\n",
    "Y_val = Y_val.astype(np.int32)\n",
    "features = {'x':X_train}\n",
    "drop_rate = 0.35\n",
    "\n",
    "X_train = X_train.reshape(-1,D,1)\n",
    "Y_train = Y_train.reshape(-1,1)\n",
    "\n",
    "\n",
    "X_val = X_val.reshape(-1,D,1)\n",
    "Y_val = Y_val.reshape(-1,1)\n",
    "\n",
    "\n",
    "X_val = X_val.reshape(-1,D,1)\n",
    "Y_val = Y_val.reshape(-1,1)"
   ]
  },
  {
   "cell_type": "code",
   "execution_count": 11,
   "metadata": {
    "collapsed": false
   },
   "outputs": [],
   "source": [
    "#Had to use a separate function couldn't get TF GPU to work with TF 1.4.0\n",
    "#Taken from \n",
    "\n",
    "def max_out(inputs, num_units, axis=None):\n",
    "    shape = inputs.get_shape().as_list()\n",
    "    if shape[0] is None:\n",
    "        shape[0] = -1\n",
    "    if axis is None:  # Assume that channel is the last dimension\n",
    "        axis = -1\n",
    "    num_channels = shape[axis]\n",
    "    if num_channels % num_units:\n",
    "        raise ValueError('number of features({}) is not '\n",
    "                         'a multiple of num_units({})'.format(num_channels, num_units))\n",
    "    shape[axis] = num_units\n",
    "    shape += [num_channels // num_units]\n",
    "    outputs = tf.reduce_max(tf.reshape(inputs, shape), -1, keep_dims=False)\n",
    "    return outputs"
   ]
  },
  {
   "cell_type": "code",
   "execution_count": 12,
   "metadata": {
    "collapsed": false
   },
   "outputs": [],
   "source": [
    "TRAIN_BATCH_SIZE = 128\n",
    "\n",
    "TEST_BATCH_SIZE = TRAIN_BATCH_SIZE\n",
    "N_classes = 1\n",
    "N = len(X_train)\n",
    "N_VAL = len(X_val)\n",
    "N_TEST = len(X_test)\n",
    "VAL_BATCH_SIZE = N_VAL\n",
    "\n",
    "inputs = tf.placeholder(tf.float32, [None, X_train.shape[1],1],name='Input')\n",
    "labels = tf.placeholder(tf.int32,[None],name='labels')\n",
    "is_training = tf.placeholder(tf.bool,name='training_flag')\n",
    "input_val = tf.placeholder(tf.float32,[N_VAL,X_val.shape[1],1],name='val_input')\n",
    "label_val = tf.placeholder(tf.int32,[N_VAL,1],name='val_label')\n",
    "\n",
    "\n",
    "train_dataset = tf.contrib.data.Dataset.from_tensor_slices((X_train, Y_train))\n",
    "train_dataset = train_dataset.batch(TRAIN_BATCH_SIZE)\n",
    "train_iterator = train_dataset.make_initializable_iterator()\n",
    "\n",
    "val_dataset = tf.contrib.data.Dataset.from_tensor_slices((X_val, Y_val))\n",
    "val_dataset = val_dataset.batch(VAL_BATCH_SIZE)\n",
    "val_iterator = val_dataset.make_initializable_iterator()\n",
    "\n",
    "\n",
    "test_dataset = tf.contrib.data.Dataset.from_tensor_slices((X_test, Y_test))\n",
    "test_dataset = test_dataset.batch(TEST_BATCH_SIZE)\n",
    "test_iterator = test_dataset.make_initializable_iterator()\n"
   ]
  },
  {
   "cell_type": "code",
   "execution_count": null,
   "metadata": {
    "collapsed": false
   },
   "outputs": [],
   "source": []
  },
  {
   "cell_type": "code",
   "execution_count": 13,
   "metadata": {
    "collapsed": false
   },
   "outputs": [],
   "source": [
    "nh1 = 1024\n",
    "nh2 = 512\n",
    "nh3 = 256\n",
    "df = 10000.0\n"
   ]
  },
  {
   "cell_type": "code",
   "execution_count": 14,
   "metadata": {
    "collapsed": false
   },
   "outputs": [
    {
     "name": "stderr",
     "output_type": "stream",
     "text": [
      "/home/ubuntu/.local/lib/python3.5/site-packages/keras/legacy/layers.py:527: UserWarning: The `MaxoutDense` layer is deprecated and will be removed after 06/2017.\n",
      "  warnings.warn('The `MaxoutDense` layer is deprecated '\n"
     ]
    },
    {
     "name": "stdout",
     "output_type": "stream",
     "text": [
      "RUNNING THIS MODEL\n"
     ]
    }
   ],
   "source": [
    "def tf_model_with_edward(my_inputs,is_training):\n",
    "        conv1_w = StudentT(loc=tf.zeros([1,1,nh1]), scale=tf.ones([1,1,nh1]),df=df)\n",
    "        conv1_b = StudentT(loc=tf.zeros([nh1]), scale=tf.ones([nh1]),df=df)\n",
    "        net = tf.nn.conv1d(my_inputs,conv1_w,stride=5,padding='SAME')\n",
    "        net = net + conv1_b\n",
    "        net = tf.contrib.layers.batch_norm(net, is_training=is_training, decay=0.99)\n",
    "        net  = tf.layers.dropout(net,training=is_training,rate=drop_rate)\n",
    "        net = tf.nn.relu(net)\n",
    "        \n",
    "        conv2_w = StudentT(loc=tf.zeros([1,nh1,nh1]), scale=tf.ones([1,nh1,nh1]),df=df)\n",
    "        conv2_b = StudentT(loc=tf.zeros([nh1]), scale=tf.ones([nh1]),df=df)\n",
    "        net = tf.nn.conv1d(net,conv2_w,stride=5, padding='SAME')\n",
    "        net = net + conv2_b\n",
    "        net = tf.contrib.layers.batch_norm(net, is_training=is_training, decay=0.99)\n",
    "        net  = tf.layers.dropout(net,training=is_training,rate=drop_rate)\n",
    "        net = tf.nn.relu(net)\n",
    "        \n",
    "        conv3_w = StudentT(loc=tf.zeros([1,nh1,nh2]), scale=tf.ones([1,nh1,nh2]),df=df)\n",
    "        conv3_b = StudentT(loc=tf.zeros([nh2]), scale=tf.ones([nh2]),df=df)\n",
    "        net = tf.nn.conv1d(net,conv3_w,stride=5, padding='SAME')\n",
    "        net = net + conv3_b\n",
    "        net = tf.contrib.layers.batch_norm(net, is_training=is_training, decay=0.99)\n",
    "        net  = tf.layers.dropout(net,training=is_training,rate=drop_rate)\n",
    "        net = tf.nn.relu(net)\n",
    "        \n",
    "        conv1a_w = StudentT(loc=tf.zeros([1,nh2,nh3]), scale=tf.ones([1,nh2,nh3]),df=df)\n",
    "        conv1a_b = StudentT(loc=tf.zeros([nh3]), scale=tf.ones([nh3]),df=df)\n",
    "        net = tf.nn.conv1d(net,conv1a_w,stride=3, padding='SAME')\n",
    "        net = net + conv1a_b\n",
    "        net = tf.contrib.layers.batch_norm(net, is_training=is_training, decay=0.99)\n",
    "        net  = tf.layers.dropout(net,training=is_training,rate=drop_rate)\n",
    "        net = tf.nn.relu(net)\n",
    "        \n",
    "        conv2a_w = StudentT(loc=tf.zeros([1,nh3,nh3]), scale=tf.ones([1,nh3,nh3]),df=df)\n",
    "        conv2a_b = StudentT(loc=tf.zeros([nh3]), scale=tf.ones([nh3]),df=df)\n",
    "        net = tf.nn.conv1d(net,conv2a_w, stride=3,padding='SAME')\n",
    "        net = net + conv2a_b\n",
    "        net = tf.contrib.layers.batch_norm(net, is_training=is_training, decay=0.99)\n",
    "        net  = tf.layers.dropout(net,training=is_training,rate=drop_rate)\n",
    "        net = tf.nn.relu(net)\n",
    "        \n",
    "        conv3a_w = StudentT(loc=tf.zeros([1,nh3,nh3]), scale=tf.ones([1,nh3,nh3]),df=df)\n",
    "        conv3a_b = StudentT(loc=tf.zeros([nh3]), scale=tf.ones([nh3]),df=df)\n",
    "        net = tf.nn.conv1d(net,conv3a_w,stride=3, padding='SAME')\n",
    "        net = net + conv3a_b\n",
    "        net = tf.contrib.layers.batch_norm(net, is_training=is_training, decay=0.99)\n",
    "        net  = tf.layers.dropout(net,training=is_training,rate=.35)\n",
    "        net = tf.nn.relu(net)\n",
    "        \n",
    "        \n",
    "        conv4a_w = StudentT(loc=tf.zeros([1,nh3,nh3]), scale=tf.ones([1,nh3,nh3]),df=df)\n",
    "        conv4a_b = StudentT(loc=tf.zeros([nh3]), scale=tf.ones([nh3]),df=df)\n",
    "        net = tf.nn.conv1d(net,conv4a_w,stride=3, padding='SAME')\n",
    "        net = net + conv4a_b\n",
    "        net = tf.contrib.layers.batch_norm(net, is_training=is_training, decay=0.99)\n",
    "        net  = tf.layers.dropout(net,training=is_training,rate=.35)\n",
    "        net = tf.nn.relu(net)\n",
    "        \n",
    "        \n",
    "        conv5a_w = StudentT(loc=tf.zeros([1,nh3,nh3]), scale=tf.ones([1,nh3,nh3]),df=df)\n",
    "        conv5a_b = StudentT(loc=tf.zeros([nh3]), scale=tf.ones([nh3]),df=df)\n",
    "        net = tf.nn.conv1d(net,conv5a_w,stride=3, padding='SAME')\n",
    "        net = net + conv5a_b\n",
    "        net = tf.contrib.layers.batch_norm(net, is_training=is_training, decay=0.99)\n",
    "        net  = tf.layers.dropout(net,training=is_training,rate=.35)\n",
    "        net = tf.nn.relu(net)\n",
    "#         net = tf.concat([net,net],axis=1)\n",
    "        \n",
    "        flatten = tf.contrib.layers.flatten(inputs=net)\n",
    "\n",
    "        net = keras.layers.MaxoutDense(1024)(flatten)\n",
    "        net = tf.contrib.layers.batch_norm(net, is_training=is_training, decay=0.99)     \n",
    "        net = keras.layers.MaxoutDense(512)(net)\n",
    "        net = tf.contrib.layers.batch_norm(net, is_training=is_training, decay=0.99)\n",
    "        net = keras.layers.MaxoutDense(256)(net)\n",
    "        net = tf.contrib.layers.batch_norm(net, is_training=is_training, decay=0.99)\n",
    "        net = tf.layers.dense(net,2,activation=tf.nn.softmax)\n",
    "\n",
    "        predicted_mask = Categorical(net)\n",
    "        \n",
    "        \n",
    "        conv1_qw = Normal(loc=tf.Variable(tf.random_normal([1,1,nh1])), \n",
    "                      scale=tf.nn.softplus(tf.Variable(tf.random_normal([1,1,nh1]))))\n",
    "        conv1_qb = Normal(loc=tf.Variable(tf.random_normal([nh1])),\n",
    "                              scale=tf.nn.softplus(tf.Variable(tf.random_normal([nh1]))))\n",
    "        conv2_qw = Normal(loc=tf.Variable(tf.random_normal([1,nh1,nh1])), \n",
    "                          scale=tf.nn.softplus(tf.Variable(tf.random_normal([1,nh1,nh1]))))\n",
    "        conv2_qb = Normal(loc=tf.Variable(tf.random_normal([nh1])),\n",
    "                              scale=tf.nn.softplus(tf.Variable(tf.random_normal([nh1]))))\n",
    "\n",
    "        conv3_qw = Normal(loc=tf.Variable(tf.random_normal([1,nh1,nh2])), \n",
    "                          scale=tf.nn.softplus(tf.Variable(tf.random_normal([1,nh1,nh2]))))\n",
    "        conv3_qb = Normal(loc=tf.Variable(tf.random_normal([nh2])),\n",
    "                              scale=tf.nn.softplus(tf.Variable(tf.random_normal([nh2]))))\n",
    "\n",
    "\n",
    "        conv1a_qw = Normal(loc=tf.Variable(tf.random_normal([1,nh2,nh3])), \n",
    "                      scale=tf.nn.softplus(tf.Variable(tf.random_normal([1,nh2,nh3]))))\n",
    "        conv1a_qb = Normal(loc=tf.Variable(tf.random_normal([nh3])),\n",
    "                              scale=tf.nn.softplus(tf.Variable(tf.random_normal([nh3]))))\n",
    "        conv2a_qw = Normal(loc=tf.Variable(tf.random_normal([1,nh3,nh3])), \n",
    "                          scale=tf.nn.softplus(tf.Variable(tf.random_normal([1,nh3,nh3]))))\n",
    "        conv2a_qb = Normal(loc=tf.Variable(tf.random_normal([nh3])),\n",
    "                              scale=tf.nn.softplus(tf.Variable(tf.random_normal([nh3]))))\n",
    "\n",
    "        conv3a_qw = Normal(loc=tf.Variable(tf.random_normal([1,nh3,nh3])), \n",
    "                          scale=tf.nn.softplus(tf.Variable(tf.random_normal([1,nh3,nh3]))))\n",
    "        conv3a_qb = Normal(loc=tf.Variable(tf.random_normal([nh3])),\n",
    "                              scale=tf.nn.softplus(tf.Variable(tf.random_normal([nh3]))))\n",
    "        \n",
    "        \n",
    "        conv4a_qw = Normal(loc=tf.Variable(tf.random_normal([1,nh3,nh3])), \n",
    "                          scale=tf.nn.softplus(tf.Variable(tf.random_normal([1,nh3,nh3]))))\n",
    "        conv4a_qb = Normal(loc=tf.Variable(tf.random_normal([nh3])),\n",
    "                              scale=tf.nn.softplus(tf.Variable(tf.random_normal([nh3]))))\n",
    "        \n",
    "        \n",
    "        conv5a_qw = Normal(loc=tf.Variable(tf.random_normal([1,nh3,nh3])), \n",
    "                          scale=tf.nn.softplus(tf.Variable(tf.random_normal([1,nh3,nh3]))))\n",
    "        conv5a_qb = Normal(loc=tf.Variable(tf.random_normal([nh3])),\n",
    "                              scale=tf.nn.softplus(tf.Variable(tf.random_normal([nh3]))))\n",
    "        \n",
    "        \n",
    "        latent_dict = {\n",
    "                   conv1_w:conv1_qw,conv1_b:conv1_qb, \n",
    "                   conv1a_w:conv1a_qw,conv1a_b:  conv1a_qb,\n",
    "                   conv2_w: conv2_qw, conv2_b:  conv2_qb, \n",
    "                   conv2a_w:conv2a_qw,conv2a_b:  conv2a_qb,\n",
    "                   conv3_w:conv3_qw, conv3_b:  conv3_qb, \n",
    "                   conv3a_w:conv3a_qw, conv3a_b:  conv3a_qb,\n",
    "                   conv4a_w:conv4a_qw, conv4a_b:conv4a_qb,\n",
    "                   conv5a_w:conv5a_qw, conv5a_b:conv5a_qb\n",
    "#                    last_w:last_qw, last_b:last_qb    \n",
    "                  }\n",
    "    \n",
    "        print ('RUNNING THIS MODEL')\n",
    "        return predicted_mask, latent_dict\n",
    "\n",
    "\n",
    "predicted_mask, latent_dict = tf_model_with_edward(inputs, is_training)\n"
   ]
  },
  {
   "cell_type": "code",
   "execution_count": null,
   "metadata": {
    "collapsed": false
   },
   "outputs": [],
   "source": []
  },
  {
   "cell_type": "code",
   "execution_count": null,
   "metadata": {
    "collapsed": false
   },
   "outputs": [],
   "source": []
  },
  {
   "cell_type": "code",
   "execution_count": null,
   "metadata": {
    "collapsed": false
   },
   "outputs": [],
   "source": []
  },
  {
   "cell_type": "markdown",
   "metadata": {},
   "source": [
    "## Inference"
   ]
  },
  {
   "cell_type": "code",
   "execution_count": null,
   "metadata": {
    "collapsed": false
   },
   "outputs": [],
   "source": []
  },
  {
   "cell_type": "code",
   "execution_count": 15,
   "metadata": {
    "collapsed": false
   },
   "outputs": [],
   "source": [
    "def inference(predicted_mask, latent_dict, labels, n_epoch=5,session_dir='tmp/inference',restore_sess=False):\n",
    "    n_batch = int(N/TRAIN_BATCH_SIZE)\n",
    "    loss = []\n",
    "    if restore_sess:\n",
    "        sess = ed.get_session()\n",
    "        saver = tf.train.Saver()\n",
    "        saver.restore(sess, session_dir)\n",
    "        return\n",
    "    else:\n",
    "        inference = ed.KLqp(latent_dict,data={predicted_mask:labels})\n",
    "        inference.initialize(n_iter=n_batch*n_epoch, scale={predicted_mask: N/TRAIN_BATCH_SIZE})\n",
    "        saver = tf.train.Saver()\n",
    "        sess = ed.get_session()\n",
    "        sess.run(tf.global_variables_initializer())\n",
    "        sess.run(train_iterator.initializer)\n",
    "        for i in range(inference.n_iter):\n",
    "            train_data, train_labels =sess.run(train_iterator.get_next())\n",
    "            if len(train_data) < TRAIN_BATCH_SIZE:\n",
    "                sess.run(train_iterator.initializer)\n",
    "                train_data,train_labels = sess.run(train_iterator.get_next())\n",
    "            train_labels = train_labels.flatten()\n",
    "#             train_labels = train_labels.reshape(-1,2)\n",
    "#             ohc  = OneHotEncoder(2)\n",
    "#             train_labels = ohc.fit_transform(train_labels).toarray()\n",
    "            info_dict = inference.update({inputs: train_data, labels: train_labels, is_training: True})\n",
    "            inference.print_progress(info_dict)\n",
    "            loss.append(info_dict['loss'])\n",
    "#         saver.save(sess, session_dir)\n",
    "        loss = np.array(loss)\n",
    "        plt.plot(loss[10:])"
   ]
  },
  {
   "cell_type": "code",
   "execution_count": 16,
   "metadata": {
    "collapsed": false,
    "scrolled": true
   },
   "outputs": [
    {
     "name": "stdout",
     "output_type": "stream",
     "text": [
      "210/210 [100%] ██████████████████████████████ Elapsed: 89s | Loss: 85661.000\n"
     ]
    },
    {
     "data": {
      "image/png": "[encoded data removed]",
      "text/plain": [
       "<matplotlib.figure.Figure at 0x7f29c4debc88>"
      ]
     },
     "metadata": {},
     "output_type": "display_data"
    }
   ],
   "source": [
    "inference(predicted_mask, latent_dict, labels, session_dir='checkpoints/edward_test',restore_sess=False)"
   ]
  },
  {
   "cell_type": "markdown",
   "metadata": {},
   "source": [
    "# Results"
   ]
  },
  {
   "cell_type": "code",
   "execution_count": 17,
   "metadata": {
    "collapsed": false,
    "scrolled": true
   },
   "outputs": [],
   "source": [
    "def criticism(predicted_mask,latent_dict):\n",
    "    predicted_mask_post2 = ed.copy(predicted_mask, latent_dict)\n",
    "    sess=ed.get_session()\n",
    "    num_samples = 500\n",
    "#     pred = predicted_mask_post2.eval(feed_dict={inputs:X_val,is_training:True})\n",
    "#     pred = sess.run(predicted_mask_post2, feed_dict={inputs:X_val,is_training:True})\n",
    "    acc = [accuracy_score(Y_val,sess.run(predicted_mask_post2, feed_dict={inputs:X_val,is_training:True})) \n",
    "             for _ in range(num_samples)] \n",
    "    prec = [precision_score(Y_val,sess.run(predicted_mask_post2, feed_dict={inputs:X_val,is_training:True})) \n",
    "             for _ in range(num_samples)]\n",
    "    rec = [recall_score(Y_val,sess.run(predicted_mask_post2, feed_dict={inputs:X_val,is_training:True})) \n",
    "             for _ in range(num_samples)]\n",
    "\n",
    "    roc = [roc_auc_score(Y_val,sess.run(predicted_mask_post2, feed_dict={inputs:X_val,is_training:True})) \n",
    "             for _ in range(num_samples)]\n",
    "    f1 = [f1_score(Y_val,sess.run(predicted_mask_post2, feed_dict={inputs:X_val,is_training:True})) \n",
    "             for _ in range(num_samples)]\n",
    "\n",
    "    return(np.array(acc),\n",
    "           np.array(prec),\n",
    "           np.array(rec),\n",
    "           np.array(roc),\n",
    "           np.array(f1))\n",
    "acc,prec,rec,roc,f1 = criticism(predicted_mask,latent_dict)"
   ]
  },
  {
   "cell_type": "code",
   "execution_count": 18,
   "metadata": {
    "collapsed": false
   },
   "outputs": [],
   "source": [
    "def criticism2(predicted_mask, latent_dict, data_iterator, num_samples, ppc_nsamples=500):\n",
    "    predicted_mask_post = ed.copy(predicted_mask, latent_dict)\n",
    "    predicted_mask_post_samples = predicted_mask_post.sample(ppc_nsamples)\n",
    "    sess = ed.get_session()\n",
    "    sess.run(data_iterator.initializer)\n",
    "    num_batches = num_samples // VAL_BATCH_SIZE\n",
    "    for i in range(num_batches):\n",
    "        data, labels = sess.run(data_iterator.get_next())\n",
    "        labels = labels.flatten()\n",
    "        ppc=sess.run(predicted_mask_post_samples,\n",
    "                 feed_dict={inputs: data, predicted_mask: labels, is_training: True})\n",
    "    return (ppc)\n",
    "ppc = criticism2(predicted_mask,latent_dict,val_iterator,len(X_val))"
   ]
  },
  {
   "cell_type": "code",
   "execution_count": 64,
   "metadata": {
    "collapsed": false
   },
   "outputs": [
    {
     "data": {
      "text/plain": [
       "(array([   4.,   10.,   33.,   76.,  111.,  108.,   87.,   55.,   12.,    4.]),\n",
       " array([ 0.67338129,  0.68359712,  0.69381295,  0.70402878,  0.7142446 ,\n",
       "         0.72446043,  0.73467626,  0.74489209,  0.75510791,  0.76532374,\n",
       "         0.77553957]),\n",
       " <a list of 10 Patch objects>)"
      ]
     },
     "execution_count": 64,
     "metadata": {},
     "output_type": "execute_result"
    },
    {
     "data": {
      "image/png": "[encoded data removed]",
      "text/plain": [
       "<matplotlib.figure.Figure at 0x7f40a7803588>"
      ]
     },
     "metadata": {},
     "output_type": "display_data"
    }
   ],
   "source": [
    "acc_list = []\n",
    "for i in range(len(ppc)):\n",
    "    acc_list.append(accuracy_score(Y_val,ppc[i]))\n",
    "plt.hist(np.array(acc_list))"
   ]
  },
  {
   "cell_type": "code",
   "execution_count": 19,
   "metadata": {
    "collapsed": false
   },
   "outputs": [
    {
     "data": {
      "text/plain": [
       "(array([   2.,    2.,   35.,   80.,  108.,  142.,   78.,   36.,   15.,    2.]),\n",
       " array([ 0.63021583,  0.64201439,  0.65381295,  0.66561151,  0.67741007,\n",
       "         0.68920863,  0.70100719,  0.71280576,  0.72460432,  0.73640288,\n",
       "         0.74820144]),\n",
       " <a list of 10 Patch objects>)"
      ]
     },
     "execution_count": 19,
     "metadata": {},
     "output_type": "execute_result"
    },
    {
     "data": {
      "image/png": "[encoded data removed]",
      "text/plain": [
       "<matplotlib.figure.Figure at 0x7f29d961c9e8>"
      ]
     },
     "metadata": {},
     "output_type": "display_data"
    }
   ],
   "source": [
    "plt.hist(acc)"
   ]
  },
  {
   "cell_type": "code",
   "execution_count": 21,
   "metadata": {
    "collapsed": false
   },
   "outputs": [
    {
     "data": {
      "text/plain": [
       "(array([ 184.,    0.,    0.,  215.,    0.,    0.,   94.,    0.,    0.,    7.]),\n",
       " array([ 0. ,  0.1,  0.2,  0.3,  0.4,  0.5,  0.6,  0.7,  0.8,  0.9,  1. ]),\n",
       " <a list of 10 Patch objects>)"
      ]
     },
     "execution_count": 21,
     "metadata": {},
     "output_type": "execute_result"
    },
    {
     "data": {
      "image/png": "[encoded data removed]",
      "text/plain": [
       "<matplotlib.figure.Figure at 0x7f2994766ba8>"
      ]
     },
     "metadata": {},
     "output_type": "display_data"
    }
   ],
   "source": [
    "plt.hist(rec)"
   ]
  },
  {
   "cell_type": "code",
   "execution_count": 20,
   "metadata": {
    "collapsed": false
   },
   "outputs": [
    {
     "data": {
      "text/plain": [
       "(array([ 145.,    0.,   28.,  200.,    0.,   23.,   81.,    8.,    3.,   12.]),\n",
       " array([ 0.        ,  0.00288462,  0.00576923,  0.00865385,  0.01153846,\n",
       "         0.01442308,  0.01730769,  0.02019231,  0.02307692,  0.02596154,\n",
       "         0.02884615]),\n",
       " <a list of 10 Patch objects>)"
      ]
     },
     "execution_count": 20,
     "metadata": {},
     "output_type": "execute_result"
    },
    {
     "data": {
      "image/png": "[encoded data removed]",
      "text/plain": [
       "<matplotlib.figure.Figure at 0x7f29946bce80>"
      ]
     },
     "metadata": {},
     "output_type": "display_data"
    }
   ],
   "source": [
    "plt.hist(f1)"
   ]
  },
  {
   "cell_type": "code",
   "execution_count": 22,
   "metadata": {
    "collapsed": false
   },
   "outputs": [
    {
     "data": {
      "text/plain": [
       "(array([ 161.,    0.,    0.,  216.,    1.,    0.,  108.,    1.,    0.,   13.]),\n",
       " array([ 0.31936416,  0.37348266,  0.42760116,  0.48171965,  0.53583815,\n",
       "         0.58995665,  0.64407514,  0.69819364,  0.75231214,  0.80643064,\n",
       "         0.86054913]),\n",
       " <a list of 10 Patch objects>)"
      ]
     },
     "execution_count": 22,
     "metadata": {},
     "output_type": "execute_result"
    },
    {
     "data": {
      "image/png": "[encoded data removed]",
      "text/plain": [
       "<matplotlib.figure.Figure at 0x7f29946a3860>"
      ]
     },
     "metadata": {},
     "output_type": "display_data"
    }
   ],
   "source": [
    "plt.hist(roc)"
   ]
  },
  {
   "cell_type": "markdown",
   "metadata": {
    "collapsed": false
   },
   "source": [
    "## No Edward"
   ]
  },
  {
   "cell_type": "code",
   "execution_count": 48,
   "metadata": {
    "collapsed": false
   },
   "outputs": [],
   "source": [
    "\n",
    "X_train = X_train.reshape(-1,X_train.shape[1],1)\n",
    "X_test = X_test.reshape(-1,X_test.shape[1],1)\n",
    "X_val = X_val.reshape(-1,X_val.shape[1],1)\n",
    "D = X_train.shape[1]\n",
    "Y_val = Y_val\n",
    "X_train = X_train.astype(np.float32)\n",
    "X_val = X_val.astype(np.float32)\n",
    "Y_train = Y_train.astype(np.int32)\n",
    "Y_val = Y_val.astype(np.int32)\n",
    "features = {'x':X_train}\n",
    "drop_rate = .55\n",
    "\n",
    "\n",
    "Y_train = Y_train.flatten()\n",
    "Y_val = Y_val.flatten()\n",
    "Y_test = np.array(Y_test).flatten()\n",
    "nh1 = 512.0\n",
    "nh2 = 256.0\n",
    "nh3 = 128.0"
   ]
  },
  {
   "cell_type": "code",
   "execution_count": 42,
   "metadata": {
    "collapsed": false
   },
   "outputs": [
    {
     "data": {
      "text/plain": [
       "(5482, 1)"
      ]
     },
     "execution_count": 42,
     "metadata": {},
     "output_type": "execute_result"
    }
   ],
   "source": [
    "Y_train.shape"
   ]
  },
  {
   "cell_type": "code",
   "execution_count": 29,
   "metadata": {
    "collapsed": false
   },
   "outputs": [],
   "source": []
  },
  {
   "cell_type": "code",
   "execution_count": 49,
   "metadata": {
    "collapsed": false
   },
   "outputs": [
    {
     "name": "stdout",
     "output_type": "stream",
     "text": [
      "INFO:tensorflow:Using default config.\n",
      "WARNING:tensorflow:Using temporary folder as model directory: /tmp/tmplql71yjf\n",
      "INFO:tensorflow:Using config: {'_keep_checkpoint_every_n_hours': 10000, '_save_summary_steps': 100, '_tf_random_seed': 1, '_session_config': None, '_save_checkpoints_secs': 600, '_model_dir': '/tmp/tmplql71yjf', '_save_checkpoints_steps': None, '_keep_checkpoint_max': 5}\n"
     ]
    },
    {
     "name": "stderr",
     "output_type": "stream",
     "text": [
      "/home/ubuntu/.local/lib/python3.5/site-packages/keras/legacy/layers.py:527: UserWarning: The `MaxoutDense` layer is deprecated and will be removed after 06/2017.\n",
      "  warnings.warn('The `MaxoutDense` layer is deprecated '\n"
     ]
    },
    {
     "name": "stdout",
     "output_type": "stream",
     "text": [
      "INFO:tensorflow:Create CheckpointSaverHook.\n",
      "INFO:tensorflow:Saving checkpoints for 1 into /tmp/tmplql71yjf/model.ckpt.\n",
      "INFO:tensorflow:loss = 0.988244, step = 1\n",
      "INFO:tensorflow:global_step/sec: 23.8612\n",
      "INFO:tensorflow:loss = 0.655306, step = 101 (4.192 sec)\n",
      "INFO:tensorflow:global_step/sec: 25.7908\n",
      "INFO:tensorflow:loss = 0.293596, step = 201 (3.877 sec)\n",
      "INFO:tensorflow:global_step/sec: 25.8254\n",
      "INFO:tensorflow:loss = 0.179726, step = 301 (3.872 sec)\n",
      "INFO:tensorflow:global_step/sec: 25.568\n",
      "INFO:tensorflow:loss = 0.168775, step = 401 (3.911 sec)\n",
      "INFO:tensorflow:global_step/sec: 25.7686\n",
      "INFO:tensorflow:loss = 0.0636823, step = 501 (3.881 sec)\n",
      "INFO:tensorflow:global_step/sec: 25.7114\n",
      "INFO:tensorflow:loss = 0.14321, step = 601 (3.889 sec)\n",
      "INFO:tensorflow:global_step/sec: 25.7348\n",
      "INFO:tensorflow:loss = 0.0108004, step = 701 (3.886 sec)\n",
      "INFO:tensorflow:global_step/sec: 25.578\n",
      "INFO:tensorflow:loss = 0.0110254, step = 801 (3.909 sec)\n",
      "INFO:tensorflow:global_step/sec: 25.5185\n",
      "INFO:tensorflow:loss = 0.0271826, step = 901 (3.919 sec)\n",
      "INFO:tensorflow:global_step/sec: 25.6527\n",
      "INFO:tensorflow:loss = 0.0113463, step = 1001 (3.898 sec)\n",
      "INFO:tensorflow:global_step/sec: 25.7919\n",
      "INFO:tensorflow:loss = 0.157739, step = 1101 (3.877 sec)\n",
      "INFO:tensorflow:global_step/sec: 25.703\n",
      "INFO:tensorflow:loss = 0.00804046, step = 1201 (3.891 sec)\n",
      "INFO:tensorflow:global_step/sec: 25.6431\n",
      "INFO:tensorflow:loss = 0.0181742, step = 1301 (3.900 sec)\n",
      "INFO:tensorflow:global_step/sec: 25.754\n",
      "INFO:tensorflow:loss = 0.000275685, step = 1401 (3.883 sec)\n",
      "INFO:tensorflow:global_step/sec: 25.5811\n",
      "INFO:tensorflow:loss = 0.00316931, step = 1501 (3.909 sec)\n",
      "INFO:tensorflow:global_step/sec: 25.7646\n",
      "INFO:tensorflow:loss = 0.0163636, step = 1601 (3.881 sec)\n",
      "INFO:tensorflow:global_step/sec: 25.6577\n",
      "INFO:tensorflow:loss = 0.000230608, step = 1701 (3.897 sec)\n",
      "INFO:tensorflow:global_step/sec: 25.6637\n",
      "INFO:tensorflow:loss = 0.0015852, step = 1801 (3.897 sec)\n",
      "INFO:tensorflow:global_step/sec: 25.6469\n",
      "INFO:tensorflow:loss = 0.00107976, step = 1901 (3.899 sec)\n",
      "INFO:tensorflow:global_step/sec: 25.5703\n",
      "INFO:tensorflow:loss = 0.050556, step = 2001 (3.911 sec)\n",
      "INFO:tensorflow:global_step/sec: 25.6294\n",
      "INFO:tensorflow:loss = 0.0380689, step = 2101 (3.902 sec)\n",
      "INFO:tensorflow:global_step/sec: 25.5426\n",
      "INFO:tensorflow:loss = 0.00218834, step = 2201 (3.915 sec)\n",
      "INFO:tensorflow:global_step/sec: 25.4605\n",
      "INFO:tensorflow:loss = 0.00589671, step = 2301 (3.928 sec)\n",
      "INFO:tensorflow:global_step/sec: 25.5207\n",
      "INFO:tensorflow:loss = 0.0285133, step = 2401 (3.918 sec)\n",
      "INFO:tensorflow:global_step/sec: 25.5635\n",
      "INFO:tensorflow:loss = 0.00969116, step = 2501 (3.912 sec)\n",
      "INFO:tensorflow:global_step/sec: 25.6179\n",
      "INFO:tensorflow:loss = 0.00290284, step = 2601 (3.904 sec)\n",
      "INFO:tensorflow:global_step/sec: 25.5158\n",
      "INFO:tensorflow:loss = 0.0049341, step = 2701 (3.919 sec)\n",
      "INFO:tensorflow:global_step/sec: 25.4825\n",
      "INFO:tensorflow:loss = 0.000318732, step = 2801 (3.924 sec)\n",
      "INFO:tensorflow:global_step/sec: 25.6777\n",
      "INFO:tensorflow:loss = 0.00051996, step = 2901 (3.894 sec)\n",
      "INFO:tensorflow:Saving checkpoints for 3000 into /tmp/tmplql71yjf/model.ckpt.\n",
      "INFO:tensorflow:Loss for final step: 0.000303375.\n",
      "INFO:tensorflow:Starting evaluation at 2017-11-13-04:11:34\n",
      "INFO:tensorflow:Restoring parameters from /tmp/tmplql71yjf/model.ckpt-3000\n",
      "INFO:tensorflow:Finished evaluation at 2017-11-13-04:11:36\n",
      "INFO:tensorflow:Saving dict for global step 3000: accuracy = 0.82446, global_step = 3000, loss = 4.09726\n",
      "INFO:tensorflow:Restoring parameters from /tmp/tmplql71yjf/model.ckpt-3000\n",
      "[0, 0, 0, 0, 1, 0, 0, 0, 0, 1, 0, 0, 1, 1, 1, 1, 0, 1, 0, 0, 1, 1, 1, 1, 1, 1, 0, 0, 0, 0, 1, 0, 1, 1, 0, 0, 1, 1, 1, 1, 0, 0, 0, 0, 1, 0, 0, 0, 0, 0, 0, 0, 0, 0, 0, 0, 0, 0, 0, 0, 0, 0, 0, 0, 0, 0, 0, 0, 0, 0, 0, 0, 0, 0, 0, 0, 0, 0, 0, 0, 0, 0, 0, 0, 0, 0, 0, 0, 0, 0, 0, 0, 0, 0, 0, 0, 0, 0, 0, 0, 0, 0, 0, 0, 0, 0, 0, 0, 0, 0, 0, 0, 0, 0, 0, 0, 0, 0, 0, 0, 0, 0, 0, 0, 0, 0, 0, 0, 0, 0, 0, 0, 0, 0, 0, 0, 0, 0, 0, 0, 0, 0, 0, 0, 0, 0, 0, 0, 0, 0, 0, 0, 0, 0, 0, 0, 0, 0, 0, 0, 0, 0, 0, 0, 0, 0, 0, 0, 0, 0, 0, 0, 0, 0, 0, 0, 0, 0, 0, 0, 0, 0, 0, 0, 0, 0, 0, 0, 0, 0, 0, 0, 0, 0, 0, 0, 0, 0, 0, 0, 0, 0, 0, 0, 0, 1, 1, 1, 1, 0, 0, 1, 0, 0, 0, 0, 1, 1, 1, 1, 0, 0, 0, 0, 1, 0, 1, 0, 0, 0, 0, 0, 0, 0, 0, 0, 0, 0, 0, 0, 0, 0, 0, 0, 0, 0, 0, 0, 0, 0, 0, 0, 0, 0, 0, 0, 0, 0, 0, 0, 1, 1, 0, 0, 0, 0, 1, 1, 1, 0, 0, 0, 0, 0, 0, 1, 0, 0, 0, 1, 1, 0, 0, 0, 1, 0, 0, 0, 0, 0, 1, 1, 0, 0, 0, 0, 0, 0, 1, 0, 0, 0, 0, 0, 0, 0, 0, 0, 1, 0, 0, 0, 0, 0, 0, 0, 0, 1, 0, 1, 0, 0, 0, 0, 0, 0, 0, 1, 0, 0, 0, 0, 1, 0, 0, 0, 0, 0, 0, 0, 0, 0, 0, 0, 0, 0, 1, 0, 0, 1, 0, 0, 0, 0, 0, 0, 1, 1, 0, 1, 0, 1, 0, 1, 0, 0, 0, 0, 0, 1, 1, 1, 1, 0, 1, 1, 0, 1, 0, 0, 1, 1, 0, 0, 0, 0, 0, 0, 0, 0, 0, 0, 0, 0, 0, 0, 0, 0, 0, 0, 0, 0, 0, 0, 0, 0, 0, 0, 0, 0, 0, 0, 0, 0, 0, 0, 0, 0, 0, 0, 0, 0, 0, 1, 0, 0, 0, 0, 0, 0, 0, 0, 0, 0, 0, 0, 0, 0, 0, 0, 0, 0, 0, 0, 0, 0, 0, 0, 0, 0, 0, 0, 0, 0, 0, 0, 0, 0, 0, 0, 0, 0, 0, 0, 0, 0, 0, 1, 1, 1, 0, 1, 0, 0, 1, 1, 1, 0, 0, 0, 0, 1, 1, 1, 1, 0, 0, 0, 0, 0, 0, 0, 0, 0, 0, 0, 0, 0, 0, 0, 0, 0, 0, 0, 0, 0, 0, 0, 0, 0, 0, 0, 0, 0, 0, 0, 1, 0, 0, 0, 0, 0, 0, 1, 1, 0, 0, 0, 0, 0, 1, 0, 1, 0, 0, 1, 0, 1, 0, 0, 0, 0, 0, 0, 0, 0, 1, 0, 1, 0, 1, 0, 1, 1, 0, 0, 1, 1, 0, 0, 0, 0, 1, 0, 0, 1, 0, 1, 0, 1, 0, 1, 0, 0, 0, 0, 0, 0, 0, 0, 1, 1, 0, 1, 0, 0, 1, 0, 0, 0, 0, 0, 0, 0, 0, 0, 0, 0, 0, 0, 1, 0, 1, 1, 0, 1, 1, 0, 1, 0, 0, 1, 1, 0, 0, 0, 0, 0, 0, 0, 0, 0, 0, 0, 0, 0, 1, 0, 0, 0, 0, 0, 1, 0, 1, 0, 0, 1, 0, 0, 0, 0, 0, 1, 1, 0, 0, 0, 0, 0, 0, 0, 1, 0, 0, 0, 0, 1, 0, 0, 0, 0, 0, 0, 0, 1, 1, 0, 1, 0, 0, 1, 0, 0, 0, 1, 1, 0, 0, 0, 0, 1, 0, 0, 0, 0, 0, 0, 0, 0, 0, 0, 0, 0, 0]\n"
     ]
    }
   ],
   "source": [
    "def tf_model(features,labels,mode):       \n",
    "        if tf.estimator.ModeKeys.TRAIN == 'train':\n",
    "            is_training=True\n",
    "        else:\n",
    "            is_training = False\n",
    "    \n",
    "    \n",
    "        layer1 =  tf.layers.conv1d(inputs=features['x'],name='x',filters=512,kernel_size=5,padding='same',\n",
    "                                                       activation=tf.nn.relu,kernel_initializer=k.initializers.he_normal())\n",
    "        layer1 =  tf.contrib.layers.batch_norm(layer1, is_training=is_training, decay=0.999)\n",
    "        layer1 = tf.layers.dropout(inputs=layer1,training=is_training,rate=drop_rate)\n",
    "\n",
    "        layer1 =  tf.layers.conv1d(inputs=layer1,filters=512,kernel_size=5,padding='same',\n",
    "                                                       activation=tf.nn.relu,kernel_initializer=k.initializers.he_normal())\n",
    "        layer1 =  tf.contrib.layers.batch_norm(layer1, is_training=is_training, decay=0.999)\n",
    "        layer1 = tf.layers.dropout(inputs=layer1,training=is_training,rate=.55)\n",
    "\n",
    "        \n",
    "        layer2 =  tf.layers.conv1d(layer1,filters=256,kernel_size=5,padding='same',\n",
    "                                   activation=tf.nn.relu,kernel_initializer=k.initializers.he_normal())\n",
    "        layer2 =  tf.contrib.layers.batch_norm(layer2, is_training=is_training, decay=0.999)\n",
    "        layer2 = tf.layers.dropout(inputs=layer2,training=is_training,rate=.55)\n",
    "\n",
    "\n",
    "        layer3 =  tf.layers.conv1d(layer2,filters=128,kernel_size=5,padding='same',activation=tf.nn.relu,kernel_initializer=k.initializers.he_normal())\n",
    "        layer3 =  tf.contrib.layers.batch_norm(layer3, is_training=is_training, decay=0.999)\n",
    "        layer3 = tf.layers.dropout(inputs=layer1,training=is_training,rate=.55)\n",
    "\n",
    "\n",
    "        layer4 =  tf.layers.conv1d(layer3,filters=128,kernel_size=3,padding='same',activation=tf.nn.relu,kernel_initializer=k.initializers.he_normal())\n",
    "        layer4 =  tf.contrib.layers.batch_norm(layer4, is_training=is_training, decay=0.999)\n",
    "        layer4 = tf.layers.dropout(inputs=layer4,training=is_training,rate=.35)\n",
    "\n",
    "\n",
    "        layer5 =  tf.layers.conv1d(layer4,filters=128,kernel_size=3,padding='same',activation=tf.nn.relu,kernel_initializer=k.initializers.he_normal())\n",
    "        layer5 =  tf.contrib.layers.batch_norm(layer5, is_training=is_training, decay=0.999)\n",
    "        layer5 = tf.layers.dropout(inputs=layer5,training=is_training,rate=.35)\n",
    "\n",
    "\n",
    "        layer6 =  tf.layers.conv1d(layer5,filters=128,kernel_size=3,padding='same',activation=tf.nn.relu,kernel_initializer=k.initializers.he_normal())\n",
    "        layer6 =  tf.contrib.layers.batch_norm(layer6, is_training=is_training, decay=0.999)\n",
    "        layer6 = tf.layers.dropout(inputs=layer6,training=is_training,rate=.35)\n",
    "\n",
    "        layer6 =  tf.layers.conv1d(layer6,filters=128,kernel_size=3,padding='same',activation=tf.nn.relu,kernel_initializer=k.initializers.he_normal())\n",
    "        layer6 =  tf.contrib.layers.batch_norm(layer6, is_training=is_training, decay=0.999)\n",
    "        layer6 = tf.layers.dropout(inputs=layer6,training=is_training,rate=.35)\n",
    "\n",
    "        flatten = tf.contrib.layers.flatten(inputs=layer6)\n",
    "        \n",
    "#         layer7 = tf.layers.dense(flatten,1024)\n",
    "#         layer7 =  max_out(layer7,1024)\n",
    "#         layer7 = tf.layers.dense(layer7,1024,activation=tf.nn.relu)\n",
    "#         layer7 =  tf.contrib.layers.batch_norm(layer7, is_training=is_training, decay=0.999)\n",
    "    #     layer7 = tf.layers.dropout(inputs=layer7,training=is_training,rate=drop_rate)\n",
    "\n",
    "        layer8 = keras.layers.MaxoutDense(1024)(flatten)\n",
    "        layer8 =  tf.contrib.layers.batch_norm(layer8, is_training=is_training, decay=0.999)\n",
    "        \n",
    "        layer9 = keras.layers.MaxoutDense(512)(layer8)\n",
    "        layer9 =  tf.contrib.layers.batch_norm(layer9, is_training=is_training, decay=0.999)\n",
    "        \n",
    "        layer10 = keras.layers.MaxoutDense(256)(layer9)\n",
    "        layer10 =  tf.contrib.layers.batch_norm(layer10, is_training=is_training, decay=0.999)\n",
    "\n",
    "\n",
    "        logits = tf.layers.dense(layer10,units=2)\n",
    "        \n",
    "\n",
    "        predictions = {\n",
    "          \"classes\": tf.argmax(input=logits, axis=1),\n",
    "          \"probabilities\": tf.nn.softmax(logits, name=\"softmax_tensor\")\n",
    "            }\n",
    "\n",
    "        if mode == tf.estimator.ModeKeys.PREDICT:\n",
    "            return tf.estimator.EstimatorSpec(mode=mode, predictions=predictions)\n",
    "\n",
    "          # Calculate Loss (for both TRAIN and EVAL modes)\n",
    "        ohc =  tf.one_hot(indices=tf.cast(labels, tf.int32), depth=2)\n",
    "        loss = tf.losses.softmax_cross_entropy(onehot_labels=ohc, logits=logits)\n",
    "\n",
    "        # Configure the Training Op (for TRAIN mode)\n",
    "        if mode == tf.estimator.ModeKeys.TRAIN:\n",
    "            optimizer = tf.train.AdamOptimizer(learning_rate=0.001)\n",
    "            train_op = optimizer.minimize(\n",
    "            loss=loss,\n",
    "            global_step=tf.train.get_global_step())\n",
    "            return tf.estimator.EstimatorSpec(mode=mode, loss=loss, train_op=train_op)\n",
    "\n",
    "        # Add evaluation metrics (for EVAL mode)\n",
    "        eval_metric_ops = {\n",
    "          \"accuracy\": tf.metrics.accuracy(\n",
    "              labels=labels, predictions=predictions[\"classes\"])}\n",
    "        return tf.estimator.EstimatorSpec(\n",
    "          mode=mode, loss=loss, eval_metric_ops=eval_metric_ops)\n",
    "\n",
    "sess = tf.InteractiveSession()\n",
    "\n",
    "my_classifier = tf.estimator.Estimator(\n",
    "    model_fn=tf_model)\n",
    "    \n",
    "train_input_fn = tf.estimator.inputs.numpy_input_fn(\n",
    "      x={\"x\":X_train},\n",
    "      y=np.array(Y_train).flatten(),\n",
    "      num_epochs=None,\n",
    "      shuffle=True)\n",
    "\n",
    "eval_input_fn = tf.estimator.inputs.numpy_input_fn(\n",
    "    x={\"x\": X_val},\n",
    "    y=Y_val,\n",
    "    num_epochs=1,\n",
    "    shuffle=False)\n",
    "\n",
    "\n",
    "my_classifier.train(input_fn=train_input_fn, steps=3000)\n",
    "eval_results = my_classifier.evaluate(input_fn=eval_input_fn)\n",
    "\n",
    "predictions = list(my_classifier.predict(input_fn=eval_input_fn))\n",
    "predicted_classes = [p[\"classes\"] for p in predictions]\n",
    "print(predicted_classes)"
   ]
  },
  {
   "cell_type": "code",
   "execution_count": 50,
   "metadata": {
    "collapsed": false
   },
   "outputs": [
    {
     "name": "stdout",
     "output_type": "stream",
     "text": [
      " Standard Deviations: 3.5\n",
      " Accuracy: 0.8244604316546763\n",
      " F1: 0.03174603174603175\n",
      " RoC: 0.7459055876685934\n",
      " Precision: 0.016260162601626018\n",
      " Recall: 0.6666666666666666\n"
     ]
    }
   ],
   "source": [
    "\n",
    "\n",
    "acc = accuracy_score(Y_val,predicted_classes)\n",
    "f1 = f1_score(Y_val,predicted_classes)\n",
    "roc = roc_auc_score(Y_val,predicted_classes)\n",
    "prec = precision_score(Y_val,predicted_classes)\n",
    "recall= recall_score(Y_val,predicted_classes)\n",
    "\n",
    "\n",
    "print (' Standard Deviations: {}'.format(number_stdev))\n",
    "print (' Accuracy: {}'.format(acc))\n",
    "print (' F1: {}'.format(f1))\n",
    "print (' RoC: {}'.format(roc))\n",
    "print (' Precision: {}'.format(prec))\n",
    "print (' Recall: {}'.format(recall))\n",
    "\n"
   ]
  },
  {
   "cell_type": "code",
   "execution_count": null,
   "metadata": {
    "collapsed": false
   },
   "outputs": [],
   "source": []
  },
  {
   "cell_type": "code",
   "execution_count": null,
   "metadata": {
    "collapsed": false
   },
   "outputs": [],
   "source": []
  },
  {
   "cell_type": "code",
   "execution_count": null,
   "metadata": {
    "collapsed": false
   },
   "outputs": [],
   "source": []
  },
  {
   "cell_type": "code",
   "execution_count": null,
   "metadata": {
    "collapsed": false
   },
   "outputs": [],
   "source": []
  },
  {
   "cell_type": "code",
   "execution_count": null,
   "metadata": {
    "collapsed": false
   },
   "outputs": [],
   "source": []
  },
  {
   "cell_type": "code",
   "execution_count": null,
   "metadata": {
    "collapsed": false,
    "scrolled": true
   },
   "outputs": [],
   "source": []
  },
  {
   "cell_type": "code",
   "execution_count": null,
   "metadata": {
    "collapsed": false
   },
   "outputs": [],
   "source": []
  }
 ],
 "metadata": {
  "anaconda-cloud": {},
  "kernelspec": {
   "display_name": "Python [conda root]",
   "language": "python",
   "name": "conda-root-py"
  },
  "language_info": {
   "codemirror_mode": {
    "name": "ipython",
    "version": 3
   },
   "file_extension": ".py",
   "mimetype": "text/x-python",
   "name": "python",
   "nbconvert_exporter": "python",
   "pygments_lexer": "ipython3",
   "version": "3.5.2"
  }
 },
 "nbformat": 4,
 "nbformat_minor": 1
}
