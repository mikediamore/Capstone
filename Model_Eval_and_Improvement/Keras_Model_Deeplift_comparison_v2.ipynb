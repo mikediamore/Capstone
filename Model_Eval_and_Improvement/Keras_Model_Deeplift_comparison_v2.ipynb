{
 "cells": [
  {
   "cell_type": "markdown",
   "metadata": {},
   "source": [
    "# Feature Importance -- Deeplift"
   ]
  },
  {
   "cell_type": "markdown",
   "metadata": {},
   "source": [
    "## Load and perpare data"
   ]
  },
  {
   "cell_type": "code",
   "execution_count": 1,
   "metadata": {
    "collapsed": false
   },
   "outputs": [
    {
     "name": "stderr",
     "output_type": "stream",
     "text": [
      "Using TensorFlow backend.\n"
     ]
    }
   ],
   "source": [
    "%matplotlib inline\n",
    "import tensorflow as tf\n",
    "import numpy as np\n",
    "# np.random.seed(12345) # Set seed\n",
    "\n",
    "# import Query as query\n",
    "import pandas as pd\n",
    "from imblearn.combine import SMOTEENN \n",
    "from sklearn.mixture import GaussianMixture\n",
    "from sklearn.model_selection import train_test_split\n",
    "from sklearn.preprocessing import StandardScaler,PolynomialFeatures\n",
    "from sklearn.decomposition import PCA\n",
    "from sklearn.utils import resample\n",
    "from keras.layers import Dense,BatchNormalization,Input,Convolution1D,GRU,Dropout\n",
    "#from keras.models import Model\n",
    "import keras\n",
    "#import pdb\n",
    "from sklearn.metrics import accuracy_score,f1_score,roc_auc_score,recall_score,precision_score\n",
    "import warnings\n",
    "import matplotlib.pyplot as plt\n",
    "import deeplift"
   ]
  },
  {
   "cell_type": "code",
   "execution_count": 2,
   "metadata": {
    "collapsed": false
   },
   "outputs": [
    {
     "data": {
      "text/plain": [
       "'1.2.2'"
      ]
     },
     "execution_count": 2,
     "metadata": {},
     "output_type": "execute_result"
    }
   ],
   "source": [
    "keras.__version__"
   ]
  },
  {
   "cell_type": "markdown",
   "metadata": {},
   "source": [
    "data obtained earlier using Michael's code:"
   ]
  },
  {
   "cell_type": "code",
   "execution_count": 3,
   "metadata": {
    "collapsed": false
   },
   "outputs": [],
   "source": [
    "collapsed_shifted = pd.read_csv('collapsed_shifted.csv',index_col=0)\n",
    "event_idx = pd.read_csv('event_idx.csv',header=None,index_col=0)\n",
    "event_idx = np.array(event_idx).flatten()"
   ]
  },
  {
   "cell_type": "code",
   "execution_count": null,
   "metadata": {
    "collapsed": false
   },
   "outputs": [],
   "source": []
  },
  {
   "cell_type": "code",
   "execution_count": null,
   "metadata": {
    "collapsed": false
   },
   "outputs": [],
   "source": []
  },
  {
   "cell_type": "code",
   "execution_count": null,
   "metadata": {
    "collapsed": true
   },
   "outputs": [],
   "source": []
  },
  {
   "cell_type": "code",
   "execution_count": null,
   "metadata": {
    "collapsed": true
   },
   "outputs": [],
   "source": []
  },
  {
   "cell_type": "code",
   "execution_count": null,
   "metadata": {
    "collapsed": true
   },
   "outputs": [],
   "source": []
  },
  {
   "cell_type": "code",
   "execution_count": null,
   "metadata": {
    "collapsed": false
   },
   "outputs": [],
   "source": []
  },
  {
   "cell_type": "code",
   "execution_count": null,
   "metadata": {
    "collapsed": false
   },
   "outputs": [],
   "source": []
  },
  {
   "cell_type": "code",
   "execution_count": 4,
   "metadata": {
    "collapsed": true
   },
   "outputs": [],
   "source": [
    "# collapsed_shifted = pd.read_csv('collapsed_shifted.csv',index_col=0)\n",
    "# event_idx = pd.read_csv('event_idx.csv',header=None,index_col=0)"
   ]
  },
  {
   "cell_type": "code",
   "execution_count": 5,
   "metadata": {
    "collapsed": false
   },
   "outputs": [
    {
     "name": "stdout",
     "output_type": "stream",
     "text": [
      "Creating train test split...\n"
     ]
    },
    {
     "name": "stderr",
     "output_type": "stream",
     "text": [
      "/home/ubuntu/src/anaconda3/lib/python3.5/site-packages/ipykernel/__main__.py:7: DeprecationWarning: Non-string object detected for the array ordering. Please pass in 'C', 'F', 'A', or 'K' instead\n",
      "/home/ubuntu/src/anaconda3/lib/python3.5/site-packages/ipykernel/__main__.py:8: DeprecationWarning: Non-string object detected for the array ordering. Please pass in 'C', 'F', 'A', or 'K' instead\n"
     ]
    }
   ],
   "source": [
    "print ('Creating train test split...')\n",
    "X_train,X_test,Y_train,Y_test = train_test_split(collapsed_shifted,event_idx,stratify=None,test_size=.20,shuffle=False)\n",
    "X_train,X_val,Y_train,Y_val = train_test_split(X_train,Y_train,test_size=.20,stratify=None,shuffle=False)\n",
    "\n",
    "#Creating Copies of Data Frames these will be useful later for debugging\n",
    "X_train_df = X_train.copy(True)\n",
    "Y_train_df = Y_train.copy(True)\n",
    "Y_val_df = Y_val.copy(True)\n",
    "X_train  = np.array(X_train)\n",
    "X_val = np.array(X_val)\n",
    "X_test = np.array(X_test)"
   ]
  },
  {
   "cell_type": "code",
   "execution_count": 6,
   "metadata": {
    "collapsed": false
   },
   "outputs": [
    {
     "name": "stdout",
     "output_type": "stream",
     "text": [
      "Length of X_train before smote\n",
      "2779\n",
      "Number of Positives before smote\n",
      "166\n",
      "Performing Oversampling/Undersampling...\n",
      "Length of X_train after smote\n",
      "4580\n",
      "Number of Positive samples after smote\n",
      "2580\n",
      "Done!\n"
     ]
    }
   ],
   "source": [
    "#pca = PCA(whiten=True)\n",
    "#X_train = pca.fit_transform(X_train)\n",
    "#X_test = pca.transform(X_test)\n",
    "#X_val = pca.transform(X_val)\n",
    "\n",
    "print ('Length of X_train before smote')\n",
    "print (len(X_train))\n",
    "print ('Number of Positives before smote')\n",
    "print (Y_train.sum())\n",
    "\n",
    "\n",
    "print ('Performing Oversampling/Undersampling...')\n",
    "s = SMOTEENN()\n",
    "X_train,Y_train= s.fit_sample(X_train,Y_train)\n",
    "\n",
    "print ('Length of X_train after smote')\n",
    "print (len(X_train))\n",
    "\n",
    "print ('Number of Positive samples after smote')\n",
    "print (Y_train.sum())\n",
    "\n",
    "# print ('Proportion after smote {}'.format(sum(Y_train)/len(Y_train))\n",
    "\n",
    "X_train = X_train.reshape(-1,X_train.shape[1],1)\n",
    "X_test = X_test.reshape(-1,X_test.shape[1],1)\n",
    "X_val = X_val.reshape(-1,X_val.shape[1],1)\n",
    "print ('Done!')"
   ]
  },
  {
   "cell_type": "markdown",
   "metadata": {},
   "source": [
    "## Keras Model"
   ]
  },
  {
   "cell_type": "markdown",
   "metadata": {},
   "source": [
    "Rewrite it to be compatiable with Deeplift.\n",
    "\n",
    "There is no MaxoutDense in the Deeplift conversion part, so I skipped them for now."
   ]
  },
  {
   "cell_type": "code",
   "execution_count": 7,
   "metadata": {
    "collapsed": true
   },
   "outputs": [],
   "source": [
    "#from keras.regularizers import l1l2\n",
    "from keras.constraints import maxnorm\n",
    "from keras.layers import MaxoutDense\n",
    "from keras.layers import Flatten\n",
    "from keras.layers import MaxPooling1D\n",
    "\n",
    "def simple_keras_model(original):\n",
    "    model = Sequential()\n",
    "    model.add(Convolution1D(512, 5, border_mode='same',activation='relu',init='he_normal',W_constraint=maxnorm(0.5),input_shape =(original.shape[1],1)))\n",
    "    model.add(BatchNormalization())\n",
    "    model.add(MaxPooling1D())\n",
    "    model.add(Dropout(.55))\n",
    "    model.add(Convolution1D(512,5,border_mode='same',activation='relu',init='he_normal',W_constraint=maxnorm(0.5)))\n",
    "    model.add(BatchNormalization())\n",
    "    model.add(MaxPooling1D())\n",
    "    model.add(Dropout(.55))\n",
    "    model.add(Convolution1D(256,5,border_mode='same',activation='relu',init='he_normal',W_constraint=maxnorm(0.5)))\n",
    "    model.add(BatchNormalization())\n",
    "    model.add(Dropout(.55))\n",
    "    model.add(Convolution1D(128,5,border_mode='same',activation='relu',init='he_normal',W_constraint=maxnorm(0.5)))\n",
    "    model.add(BatchNormalization())\n",
    "    model.add(Dropout(.55))\n",
    "    model.add(Convolution1D(128,3,border_mode='same',activation='relu',init='he_normal'))\n",
    "    model.add(BatchNormalization())\n",
    "    model.add(Dropout(.35))\n",
    "    model.add(Convolution1D(128,3,border_mode='same',activation='relu',init='he_normal'))\n",
    "    model.add(BatchNormalization())\n",
    "    model.add(Dropout(.35))\n",
    "    model.add(Convolution1D(128,3,border_mode='same',activation='relu',init='he_normal'))\n",
    "    model.add(BatchNormalization())\n",
    "    model.add(Dropout(.35))\n",
    "    model.add(Convolution1D(128,3,border_mode='same',activation='relu',init='he_normal'))\n",
    "    model.add(BatchNormalization())\n",
    "    model.add(Dropout(.35))\n",
    "    \n",
    "    \n",
    "    \n",
    "    model.add(Flatten())\n",
    "    model.add(Dense(1024,activation='relu',init='he_normal'))\n",
    "    model.add(Dense(512,activation='relu',init='he_normal'))\n",
    "    model.add(Dense(128,activation='relu',init='he_normal'))\n",
    "    \n",
    "    model.add(Dense(2,activation='softmax'))\n",
    "    \n",
    "    \n",
    "    #my_model = Model([original_input], output=output)\n",
    "    optimizer_adam = keras.optimizers.adam(0.001) \n",
    "    model.compile(loss='categorical_crossentropy', optimizer=optimizer_adam, metrics=['accuracy'])\n",
    "\n",
    "    return(model)\n"
   ]
  },
  {
   "cell_type": "code",
   "execution_count": 8,
   "metadata": {
    "collapsed": false
   },
   "outputs": [],
   "source": [
    "Y_train = keras.utils.np_utils.to_categorical(nb_classes=2,y=Y_train)"
   ]
  },
  {
   "cell_type": "code",
   "execution_count": 9,
   "metadata": {
    "collapsed": false
   },
   "outputs": [
    {
     "name": "stdout",
     "output_type": "stream",
     "text": [
      "Epoch 1/50\n",
      "4580/4580 [==============================] - 5s - loss: 0.7547 - acc: 0.6345     \n",
      "Epoch 2/50\n",
      "4580/4580 [==============================] - 1s - loss: 0.5217 - acc: 0.7430     \n",
      "Epoch 3/50\n",
      "4580/4580 [==============================] - 1s - loss: 0.4703 - acc: 0.7734     \n",
      "Epoch 4/50\n",
      "4580/4580 [==============================] - 1s - loss: 0.4451 - acc: 0.7934     \n",
      "Epoch 5/50\n",
      "4580/4580 [==============================] - 1s - loss: 0.3903 - acc: 0.8308     \n",
      "Epoch 6/50\n",
      "4580/4580 [==============================] - 1s - loss: 0.3542 - acc: 0.8544     \n",
      "Epoch 7/50\n",
      "4580/4580 [==============================] - 1s - loss: 0.3051 - acc: 0.8729     \n",
      "Epoch 8/50\n",
      "4580/4580 [==============================] - 1s - loss: 0.2875 - acc: 0.8869     \n",
      "Epoch 9/50\n",
      "4580/4580 [==============================] - 1s - loss: 0.2620 - acc: 0.8956     \n",
      "Epoch 10/50\n",
      "4580/4580 [==============================] - 1s - loss: 0.2345 - acc: 0.9066     \n",
      "Epoch 11/50\n",
      "4580/4580 [==============================] - 1s - loss: 0.2170 - acc: 0.9181     \n",
      "Epoch 12/50\n",
      "4580/4580 [==============================] - 1s - loss: 0.2024 - acc: 0.9258     \n",
      "Epoch 13/50\n",
      "4580/4580 [==============================] - 1s - loss: 0.1837 - acc: 0.9330     \n",
      "Epoch 14/50\n",
      "4580/4580 [==============================] - 1s - loss: 0.1892 - acc: 0.9332     \n",
      "Epoch 15/50\n",
      "4580/4580 [==============================] - 1s - loss: 0.1663 - acc: 0.9386     \n",
      "Epoch 16/50\n",
      "4580/4580 [==============================] - 1s - loss: 0.1670 - acc: 0.9391     \n",
      "Epoch 17/50\n",
      "4580/4580 [==============================] - 1s - loss: 0.1562 - acc: 0.9424     \n",
      "Epoch 18/50\n",
      "4580/4580 [==============================] - 1s - loss: 0.1516 - acc: 0.9456     \n",
      "Epoch 19/50\n",
      "4580/4580 [==============================] - 1s - loss: 0.1375 - acc: 0.9478     \n",
      "Epoch 20/50\n",
      "4580/4580 [==============================] - 1s - loss: 0.1402 - acc: 0.9526     \n",
      "Epoch 21/50\n",
      "4580/4580 [==============================] - 1s - loss: 0.1074 - acc: 0.9572     \n",
      "Epoch 22/50\n",
      "4580/4580 [==============================] - 1s - loss: 0.1275 - acc: 0.9520     \n",
      "Epoch 23/50\n",
      "4580/4580 [==============================] - 1s - loss: 0.1132 - acc: 0.9609     \n",
      "Epoch 24/50\n",
      "4580/4580 [==============================] - 1s - loss: 0.1124 - acc: 0.9590     \n",
      "Epoch 25/50\n",
      "4580/4580 [==============================] - 1s - loss: 0.0993 - acc: 0.9644     \n",
      "Epoch 26/50\n",
      "4580/4580 [==============================] - 1s - loss: 0.0956 - acc: 0.9662     \n",
      "Epoch 27/50\n",
      "4580/4580 [==============================] - 1s - loss: 0.1076 - acc: 0.9620     \n",
      "Epoch 28/50\n",
      "4580/4580 [==============================] - 1s - loss: 0.0984 - acc: 0.9657     \n",
      "Epoch 29/50\n",
      "4580/4580 [==============================] - 1s - loss: 0.0920 - acc: 0.9646     \n",
      "Epoch 30/50\n",
      "4580/4580 [==============================] - 1s - loss: 0.0902 - acc: 0.9701     \n",
      "Epoch 31/50\n",
      "4580/4580 [==============================] - 1s - loss: 0.0883 - acc: 0.9703     \n",
      "Epoch 32/50\n",
      "4580/4580 [==============================] - 1s - loss: 0.0790 - acc: 0.9731     \n",
      "Epoch 33/50\n",
      "4580/4580 [==============================] - 1s - loss: 0.0733 - acc: 0.9773     \n",
      "Epoch 34/50\n",
      "4580/4580 [==============================] - 1s - loss: 0.0845 - acc: 0.9718     \n",
      "Epoch 35/50\n",
      "4580/4580 [==============================] - 1s - loss: 0.0800 - acc: 0.9723     \n",
      "Epoch 36/50\n",
      "4580/4580 [==============================] - 1s - loss: 0.0818 - acc: 0.9723     \n",
      "Epoch 37/50\n",
      "4580/4580 [==============================] - 1s - loss: 0.0806 - acc: 0.9723     \n",
      "Epoch 38/50\n",
      "4580/4580 [==============================] - 1s - loss: 0.0604 - acc: 0.9790     \n",
      "Epoch 39/50\n",
      "4580/4580 [==============================] - 1s - loss: 0.0722 - acc: 0.9751     \n",
      "Epoch 40/50\n",
      "4580/4580 [==============================] - 1s - loss: 0.0642 - acc: 0.9769     \n",
      "Epoch 41/50\n",
      "4580/4580 [==============================] - 1s - loss: 0.0634 - acc: 0.9788     \n",
      "Epoch 42/50\n",
      "4580/4580 [==============================] - 1s - loss: 0.0643 - acc: 0.9808     \n",
      "Epoch 43/50\n",
      "4580/4580 [==============================] - 1s - loss: 0.0685 - acc: 0.9753     \n",
      "Epoch 44/50\n",
      "4580/4580 [==============================] - 1s - loss: 0.0699 - acc: 0.9740     \n",
      "Epoch 45/50\n",
      "4580/4580 [==============================] - 1s - loss: 0.0649 - acc: 0.9788     \n",
      "Epoch 46/50\n",
      "4580/4580 [==============================] - 1s - loss: 0.0562 - acc: 0.9806     \n",
      "Epoch 47/50\n",
      "4580/4580 [==============================] - 1s - loss: 0.0702 - acc: 0.9742     \n",
      "Epoch 48/50\n",
      "4580/4580 [==============================] - 1s - loss: 0.0541 - acc: 0.9814     \n",
      "Epoch 49/50\n",
      "4580/4580 [==============================] - 1s - loss: 0.0545 - acc: 0.9834     \n",
      "Epoch 50/50\n",
      "4580/4580 [==============================] - 1s - loss: 0.0538 - acc: 0.9799     \n"
     ]
    },
    {
     "data": {
      "text/plain": [
       "<keras.callbacks.History at 0x7f1e753e0588>"
      ]
     },
     "execution_count": 9,
     "metadata": {},
     "output_type": "execute_result"
    }
   ],
   "source": [
    "import tensorflow as tf\n",
    "from keras.models import Sequential\n",
    "my_model = simple_keras_model(X_train)\n",
    "my_model.fit(X_train,Y_train,nb_epoch=50 ,batch_size=128)"
   ]
  },
  {
   "cell_type": "code",
   "execution_count": 10,
   "metadata": {
    "collapsed": false
   },
   "outputs": [
    {
     "name": "stdout",
     "output_type": "stream",
     "text": [
      "____________________________________________________________________________________________________\n",
      "Layer (type)                     Output Shape          Param #     Connected to                     \n",
      "====================================================================================================\n",
      "convolution1d_1 (Convolution1D)  (None, 18, 512)       3072        convolution1d_input_1[0][0]      \n",
      "____________________________________________________________________________________________________\n",
      "batchnormalization_1 (BatchNorma (None, 18, 512)       2048        convolution1d_1[0][0]            \n",
      "____________________________________________________________________________________________________\n",
      "maxpooling1d_1 (MaxPooling1D)    (None, 9, 512)        0           batchnormalization_1[0][0]       \n",
      "____________________________________________________________________________________________________\n",
      "dropout_1 (Dropout)              (None, 9, 512)        0           maxpooling1d_1[0][0]             \n",
      "____________________________________________________________________________________________________\n",
      "convolution1d_2 (Convolution1D)  (None, 9, 512)        1311232     dropout_1[0][0]                  \n",
      "____________________________________________________________________________________________________\n",
      "batchnormalization_2 (BatchNorma (None, 9, 512)        2048        convolution1d_2[0][0]            \n",
      "____________________________________________________________________________________________________\n",
      "maxpooling1d_2 (MaxPooling1D)    (None, 4, 512)        0           batchnormalization_2[0][0]       \n",
      "____________________________________________________________________________________________________\n",
      "dropout_2 (Dropout)              (None, 4, 512)        0           maxpooling1d_2[0][0]             \n",
      "____________________________________________________________________________________________________\n",
      "convolution1d_3 (Convolution1D)  (None, 4, 256)        655616      dropout_2[0][0]                  \n",
      "____________________________________________________________________________________________________\n",
      "batchnormalization_3 (BatchNorma (None, 4, 256)        1024        convolution1d_3[0][0]            \n",
      "____________________________________________________________________________________________________\n",
      "dropout_3 (Dropout)              (None, 4, 256)        0           batchnormalization_3[0][0]       \n",
      "____________________________________________________________________________________________________\n",
      "convolution1d_4 (Convolution1D)  (None, 4, 128)        163968      dropout_3[0][0]                  \n",
      "____________________________________________________________________________________________________\n",
      "batchnormalization_4 (BatchNorma (None, 4, 128)        512         convolution1d_4[0][0]            \n",
      "____________________________________________________________________________________________________\n",
      "dropout_4 (Dropout)              (None, 4, 128)        0           batchnormalization_4[0][0]       \n",
      "____________________________________________________________________________________________________\n",
      "convolution1d_5 (Convolution1D)  (None, 4, 128)        49280       dropout_4[0][0]                  \n",
      "____________________________________________________________________________________________________\n",
      "batchnormalization_5 (BatchNorma (None, 4, 128)        512         convolution1d_5[0][0]            \n",
      "____________________________________________________________________________________________________\n",
      "dropout_5 (Dropout)              (None, 4, 128)        0           batchnormalization_5[0][0]       \n",
      "____________________________________________________________________________________________________\n",
      "convolution1d_6 (Convolution1D)  (None, 4, 128)        49280       dropout_5[0][0]                  \n",
      "____________________________________________________________________________________________________\n",
      "batchnormalization_6 (BatchNorma (None, 4, 128)        512         convolution1d_6[0][0]            \n",
      "____________________________________________________________________________________________________\n",
      "dropout_6 (Dropout)              (None, 4, 128)        0           batchnormalization_6[0][0]       \n",
      "____________________________________________________________________________________________________\n",
      "convolution1d_7 (Convolution1D)  (None, 4, 128)        49280       dropout_6[0][0]                  \n",
      "____________________________________________________________________________________________________\n",
      "batchnormalization_7 (BatchNorma (None, 4, 128)        512         convolution1d_7[0][0]            \n",
      "____________________________________________________________________________________________________\n",
      "dropout_7 (Dropout)              (None, 4, 128)        0           batchnormalization_7[0][0]       \n",
      "____________________________________________________________________________________________________\n",
      "convolution1d_8 (Convolution1D)  (None, 4, 128)        49280       dropout_7[0][0]                  \n",
      "____________________________________________________________________________________________________\n",
      "batchnormalization_8 (BatchNorma (None, 4, 128)        512         convolution1d_8[0][0]            \n",
      "____________________________________________________________________________________________________\n",
      "dropout_8 (Dropout)              (None, 4, 128)        0           batchnormalization_8[0][0]       \n",
      "____________________________________________________________________________________________________\n",
      "flatten_1 (Flatten)              (None, 512)           0           dropout_8[0][0]                  \n",
      "____________________________________________________________________________________________________\n",
      "dense_1 (Dense)                  (None, 1024)          525312      flatten_1[0][0]                  \n",
      "____________________________________________________________________________________________________\n",
      "dense_2 (Dense)                  (None, 512)           524800      dense_1[0][0]                    \n",
      "____________________________________________________________________________________________________\n",
      "dense_3 (Dense)                  (None, 128)           65664       dense_2[0][0]                    \n",
      "____________________________________________________________________________________________________\n",
      "dense_4 (Dense)                  (None, 2)             258         dense_3[0][0]                    \n",
      "====================================================================================================\n",
      "Total params: 3,454,722\n",
      "Trainable params: 3,450,882\n",
      "Non-trainable params: 3,840\n",
      "____________________________________________________________________________________________________\n"
     ]
    }
   ],
   "source": [
    "my_model.summary()"
   ]
  },
  {
   "cell_type": "markdown",
   "metadata": {},
   "source": [
    "## Deeplift"
   ]
  },
  {
   "cell_type": "markdown",
   "metadata": {},
   "source": [
    "Adjusted from the code provided by the authors of the paper [https://arxiv.org/abs/1704.02685]:\n",
    "https://github.com/kundajelab/deeplift/blob/tensorflow/deeplift/conversion/keras_conversion.py"
   ]
  },
  {
   "cell_type": "code",
   "execution_count": 11,
   "metadata": {
    "collapsed": false
   },
   "outputs": [],
   "source": [
    "import deeplift\n"
   ]
  },
  {
   "cell_type": "code",
   "execution_count": null,
   "metadata": {
    "collapsed": false
   },
   "outputs": [],
   "source": []
  },
  {
   "cell_type": "code",
   "execution_count": 12,
   "metadata": {
    "collapsed": false
   },
   "outputs": [
    {
     "name": "stdout",
     "output_type": "stream",
     "text": [
      "No reference provided - using zeros\n",
      "Done 0\n",
      "Done 1000\n",
      "Done 2000\n",
      "Done 3000\n",
      "Done 4000\n"
     ]
    }
   ],
   "source": [
    "#Convert a keras sequential model\n",
    "import deeplift\n",
    "from deeplift.conversion import keras_conversion as kc\n",
    "#MxtsMode defines the method for computing importance scores. Other supported values are:\n",
    "#Gradient, DeconvNet, GuidedBackprop and GuidedBackpropDeepLIFT (a hybrid of GuidedBackprop and DeepLIFT where\n",
    "#negative multipliers are ignored during backpropagation)\n",
    "deeplift_model = kc.convert_sequential_model(\n",
    "                    my_model,\n",
    "                    nonlinear_mxts_mode=deeplift.blobs.NonlinearMxtsMode.DeepLIFT)\n",
    "\n",
    "#Specify the index of the layer to compute the importance scores of.\n",
    "#In the example below, we find scores for the input layer, which is idx 0 in deeplift_model.get_layers()\n",
    "find_scores_layer_idx = 0\n",
    "\n",
    "#Compile the function that computes the importance scores\n",
    "#For sigmoid or softmax outputs, target_layer_idx should be -2 (the default)\n",
    "#(See \"a note on final activation layers\" in https://arxiv.org/pdf/1605.01713v2.pdf for justification)\n",
    "#For regression tasks with a linear output, target_layer_idx should be -1\n",
    "#(which simply refers to the last layer)\n",
    "#FYI: In the case of MxtsMode.DeepLIFT, the importance scores are also called \"contribution scores\"\n",
    "#If you want the multipliers instead of the contribution scores, you can use get_target_multipliers_func\n",
    "deeplift_contribs_func = deeplift_model.get_target_contribs_func(\n",
    "                            find_scores_layer_idx=find_scores_layer_idx,\n",
    "                            target_layer_idx=-2)\n",
    "\n",
    "#compute scores on inputs\n",
    "#input_data_list is a list containing the data for different input layers\n",
    "#eg: for MNIST, there is one input layer with with dimensions 1 x 28 x 28\n",
    "#In the example below, let X be an array with dimension n x 1 x 28 x 28 where n is the number of examples\n",
    "#task_idx represents the index of the node in the output layer that we wish to compute scores.\n",
    "#Eg: if the output is a 10-way softmax, and task_idx is 0, we will compute scores for the first softmax class\n",
    "scores = np.array(deeplift_contribs_func(task_idx=0,\n",
    "                                         input_data_list=[X_train],\n",
    "                                         batch_size=1,\n",
    "                                         progress_update=1000))"
   ]
  },
  {
   "cell_type": "code",
   "execution_count": 13,
   "metadata": {
    "collapsed": true
   },
   "outputs": [],
   "source": [
    "s = scores.reshape([scores.shape[0],scores.shape[1]])"
   ]
  },
  {
   "cell_type": "markdown",
   "metadata": {},
   "source": [
    "## Results"
   ]
  },
  {
   "cell_type": "code",
   "execution_count": 14,
   "metadata": {
    "collapsed": false
   },
   "outputs": [
    {
     "data": {
      "text/plain": [
       "[('GoldsteinScale', 0),\n",
       " ('numarticles', 1),\n",
       " ('NumMentions', 2),\n",
       " ('avgtone', 3),\n",
       " ('numsources', 4),\n",
       " ('wti_co', 5),\n",
       " ('unemploy', 6),\n",
       " ('m1v', 7),\n",
       " ('m2v', 8),\n",
       " ('slsi', 9),\n",
       " ('vix', 10),\n",
       " ('dff', 11),\n",
       " ('Open', 12),\n",
       " ('High', 13),\n",
       " ('Low', 14),\n",
       " ('Close', 15),\n",
       " ('Adj Close', 16),\n",
       " ('Volume', 17)]"
      ]
     },
     "execution_count": 14,
     "metadata": {},
     "output_type": "execute_result"
    }
   ],
   "source": [
    "list(zip(X_train_df.columns,range(len(X_train_df.columns))))"
   ]
  },
  {
   "cell_type": "code",
   "execution_count": 15,
   "metadata": {
    "collapsed": false
   },
   "outputs": [
    {
     "name": "stdout",
     "output_type": "stream",
     "text": [
      "Populating the interactive namespace from numpy and matplotlib\n"
     ]
    },
    {
     "data": {
      "image/png": "[encoded data removed]",
      "text/plain": [
       "<matplotlib.figure.Figure at 0x7f1e76f07550>"
      ]
     },
     "metadata": {},
     "output_type": "display_data"
    }
   ],
   "source": [
    "%pylab inline\n",
    "pylab.rcParams['figure.figsize'] = (25, 8)\n",
    "\n",
    "plt.figure()\n",
    "data=[s[i] for i in range(18)]\n",
    "plt.boxplot(data)\n",
    "plt.show()"
   ]
  },
  {
   "cell_type": "markdown",
   "metadata": {},
   "source": [
    "### Here is where there's an issue. Data is only 18x18? Should be  4576 x 18 see s in the next cell"
   ]
  },
  {
   "cell_type": "code",
   "execution_count": 16,
   "metadata": {
    "collapsed": false
   },
   "outputs": [
    {
     "data": {
      "text/plain": [
       "(18, 18)"
      ]
     },
     "execution_count": 16,
     "metadata": {},
     "output_type": "execute_result"
    }
   ],
   "source": [
    "np.array(data).shape"
   ]
  },
  {
   "cell_type": "code",
   "execution_count": 17,
   "metadata": {
    "collapsed": false
   },
   "outputs": [
    {
     "data": {
      "text/plain": [
       "(4580, 18)"
      ]
     },
     "execution_count": 17,
     "metadata": {},
     "output_type": "execute_result"
    }
   ],
   "source": [
    "np.array(s).shape"
   ]
  },
  {
   "cell_type": "markdown",
   "metadata": {},
   "source": [
    "### This fixes the issue"
   ]
  },
  {
   "cell_type": "code",
   "execution_count": 18,
   "metadata": {
    "collapsed": false
   },
   "outputs": [
    {
     "data": {
      "text/plain": [
       "<matplotlib.axes._subplots.AxesSubplot at 0x7f1e5c21b588>"
      ]
     },
     "execution_count": 18,
     "metadata": {},
     "output_type": "execute_result"
    },
    {
     "data": {
      "image/png": "[encoded data removed]",
      "text/plain": [
       "<matplotlib.figure.Figure at 0x7f1e77947550>"
      ]
     },
     "metadata": {},
     "output_type": "display_data"
    }
   ],
   "source": [
    "data = pd.DataFrame(s)\n",
    "data.columns = X_train_df.columns\n",
    "data.plot.box()\n"
   ]
  },
  {
   "cell_type": "code",
   "execution_count": null,
   "metadata": {
    "collapsed": false
   },
   "outputs": [],
   "source": []
  },
  {
   "cell_type": "markdown",
   "metadata": {},
   "source": [
    "### Now we have positives and negatives so before we take the mean we want to take the abs before we take the mean in your code you were taking it after"
   ]
  },
  {
   "cell_type": "code",
   "execution_count": 19,
   "metadata": {
    "collapsed": false
   },
   "outputs": [],
   "source": [
    "## Using your code\n",
    "mean_df = data.abs().mean()"
   ]
  },
  {
   "cell_type": "code",
   "execution_count": 20,
   "metadata": {
    "collapsed": false
   },
   "outputs": [
    {
     "data": {
      "text/plain": [
       "Low               0.169921\n",
       "GoldsteinScale    0.267669\n",
       "Close             0.270325\n",
       "numsources        0.283104\n",
       "NumMentions       0.294274\n",
       "Adj Close         0.295935\n",
       "Volume            0.296677\n",
       "numarticles       0.369976\n",
       "High              0.370433\n",
       "avgtone           0.421786\n",
       "dff               0.542056\n",
       "Open              0.575153\n",
       "m2v               0.587181\n",
       "unemploy          0.598088\n",
       "wti_co            0.630133\n",
       "m1v               0.654186\n",
       "vix               0.811479\n",
       "slsi              1.002936\n",
       "dtype: float32"
      ]
     },
     "execution_count": 20,
     "metadata": {},
     "output_type": "execute_result"
    }
   ],
   "source": [
    "mean_df.T.sort_values()"
   ]
  },
  {
   "cell_type": "code",
   "execution_count": null,
   "metadata": {
    "collapsed": true
   },
   "outputs": [],
   "source": []
  },
  {
   "cell_type": "code",
   "execution_count": null,
   "metadata": {
    "collapsed": false
   },
   "outputs": [],
   "source": []
  },
  {
   "cell_type": "code",
   "execution_count": null,
   "metadata": {
    "collapsed": false
   },
   "outputs": [],
   "source": []
  },
  {
   "cell_type": "code",
   "execution_count": null,
   "metadata": {
    "collapsed": false
   },
   "outputs": [],
   "source": []
  },
  {
   "cell_type": "markdown",
   "metadata": {},
   "source": [
    "It seems that sentiment features like 'GoldsteinScale' and 'avgtone' are more important than volume features. But finanical features like 'unemploy' and 'wit_co' are even more important than these sentiment metrics."
   ]
  },
  {
   "cell_type": "code",
   "execution_count": null,
   "metadata": {
    "collapsed": true
   },
   "outputs": [],
   "source": []
  }
 ],
 "metadata": {
  "anaconda-cloud": {},
  "kernelspec": {
   "display_name": "Python 3",
   "language": "python",
   "name": "python3"
  },
  "language_info": {
   "codemirror_mode": {
    "name": "ipython",
    "version": 3
   },
   "file_extension": ".py",
   "mimetype": "text/x-python",
   "name": "python",
   "nbconvert_exporter": "python",
   "pygments_lexer": "ipython3",
   "version": "3.6.0"
  }
 },
 "nbformat": 4,
 "nbformat_minor": 2
}
