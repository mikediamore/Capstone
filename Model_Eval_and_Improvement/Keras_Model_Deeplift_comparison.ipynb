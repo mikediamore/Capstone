{
 "cells": [
  {
   "cell_type": "markdown",
   "metadata": {},
   "source": [
    "# Feature Importance -- Deeplift"
   ]
  },
  {
   "cell_type": "markdown",
   "metadata": {},
   "source": [
    "## Load and perpare data"
   ]
  },
  {
   "cell_type": "code",
   "execution_count": 60,
   "metadata": {
    "collapsed": false
   },
   "outputs": [],
   "source": [
    "%matplotlib inline\n",
    "import tensorflow as tf\n",
    "import numpy as np\n",
    "# np.random.seed(12345) # Set seed\n",
    "\n",
    "# import Query as query\n",
    "import pandas as pd\n",
    "from imblearn.combine import SMOTEENN \n",
    "from sklearn.mixture import GaussianMixture\n",
    "from sklearn.model_selection import train_test_split\n",
    "from sklearn.preprocessing import StandardScaler,PolynomialFeatures\n",
    "from sklearn.decomposition import PCA\n",
    "from sklearn.utils import resample\n",
    "from keras.layers import Dense,BatchNormalization,Input,Convolution1D,GRU,Dropout\n",
    "#from keras.models import Model\n",
    "import keras\n",
    "#import pdb\n",
    "from sklearn.metrics import accuracy_score,f1_score,roc_auc_score,recall_score,precision_score\n",
    "import warnings\n",
    "import matplotlib.pyplot as plt\n",
    "import deeplift"
   ]
  },
  {
   "cell_type": "code",
   "execution_count": 61,
   "metadata": {
    "collapsed": false
   },
   "outputs": [
    {
     "data": {
      "text/plain": [
       "'1.2.2'"
      ]
     },
     "execution_count": 61,
     "metadata": {},
     "output_type": "execute_result"
    }
   ],
   "source": [
    "keras.__version__"
   ]
  },
  {
   "cell_type": "markdown",
   "metadata": {},
   "source": [
    "data obtained earlier using Michael's code:"
   ]
  },
  {
   "cell_type": "code",
   "execution_count": 62,
   "metadata": {
    "collapsed": false
   },
   "outputs": [],
   "source": [
    "collapsed_shifted = pd.read_csv('collapsed_shifted.csv',index_col=0)\n",
    "event_idx = pd.read_csv('event_idx.csv',header=None,index_col=0)\n",
    "event_idx = np.array(event_idx).flatten()"
   ]
  },
  {
   "cell_type": "code",
   "execution_count": null,
   "metadata": {
    "collapsed": false
   },
   "outputs": [],
   "source": []
  },
  {
   "cell_type": "code",
   "execution_count": null,
   "metadata": {
    "collapsed": false
   },
   "outputs": [],
   "source": []
  },
  {
   "cell_type": "code",
   "execution_count": null,
   "metadata": {
    "collapsed": true
   },
   "outputs": [],
   "source": []
  },
  {
   "cell_type": "code",
   "execution_count": null,
   "metadata": {
    "collapsed": true
   },
   "outputs": [],
   "source": []
  },
  {
   "cell_type": "code",
   "execution_count": null,
   "metadata": {
    "collapsed": true
   },
   "outputs": [],
   "source": []
  },
  {
   "cell_type": "code",
   "execution_count": null,
   "metadata": {
    "collapsed": false
   },
   "outputs": [],
   "source": []
  },
  {
   "cell_type": "code",
   "execution_count": null,
   "metadata": {
    "collapsed": false
   },
   "outputs": [],
   "source": []
  },
  {
   "cell_type": "code",
   "execution_count": 63,
   "metadata": {
    "collapsed": true
   },
   "outputs": [],
   "source": [
    "# collapsed_shifted = pd.read_csv('collapsed_shifted.csv',index_col=0)\n",
    "# event_idx = pd.read_csv('event_idx.csv',header=None,index_col=0)"
   ]
  },
  {
   "cell_type": "code",
   "execution_count": 64,
   "metadata": {
    "collapsed": false
   },
   "outputs": [
    {
     "name": "stdout",
     "output_type": "stream",
     "text": [
      "Creating train test split...\n"
     ]
    },
    {
     "name": "stderr",
     "output_type": "stream",
     "text": [
      "/home/ubuntu/src/anaconda3/lib/python3.5/site-packages/ipykernel/__main__.py:7: DeprecationWarning: Non-string object detected for the array ordering. Please pass in 'C', 'F', 'A', or 'K' instead\n",
      "/home/ubuntu/src/anaconda3/lib/python3.5/site-packages/ipykernel/__main__.py:8: DeprecationWarning: Non-string object detected for the array ordering. Please pass in 'C', 'F', 'A', or 'K' instead\n"
     ]
    }
   ],
   "source": [
    "print ('Creating train test split...')\n",
    "X_train,X_test,Y_train,Y_test = train_test_split(collapsed_shifted,event_idx,stratify=None,test_size=.20,shuffle=False)\n",
    "X_train,X_val,Y_train,Y_val = train_test_split(X_train,Y_train,test_size=.20,stratify=None,shuffle=False)\n",
    "\n",
    "#Creating Copies of Data Frames these will be useful later for debugging\n",
    "X_train_df = X_train.copy(True)\n",
    "Y_train_df = Y_train.copy(True)\n",
    "Y_val_df = Y_val.copy(True)\n",
    "X_train  = np.array(X_train)\n",
    "X_val = np.array(X_val)\n",
    "X_test = np.array(X_test)"
   ]
  },
  {
   "cell_type": "code",
   "execution_count": 65,
   "metadata": {
    "collapsed": false
   },
   "outputs": [
    {
     "name": "stdout",
     "output_type": "stream",
     "text": [
      "Length of X_train before smote\n",
      "2779\n",
      "Number of Positives before smote\n",
      "166\n",
      "Performing Oversampling/Undersampling...\n",
      "Length of X_train after smote\n",
      "4576\n",
      "Number of Positive samples after smote\n",
      "2583\n",
      "Done!\n"
     ]
    }
   ],
   "source": [
    "#pca = PCA(whiten=True)\n",
    "#X_train = pca.fit_transform(X_train)\n",
    "#X_test = pca.transform(X_test)\n",
    "#X_val = pca.transform(X_val)\n",
    "\n",
    "print ('Length of X_train before smote')\n",
    "print (len(X_train))\n",
    "print ('Number of Positives before smote')\n",
    "print (Y_train.sum())\n",
    "\n",
    "\n",
    "print ('Performing Oversampling/Undersampling...')\n",
    "s = SMOTEENN()\n",
    "X_train,Y_train= s.fit_sample(X_train,Y_train)\n",
    "\n",
    "print ('Length of X_train after smote')\n",
    "print (len(X_train))\n",
    "\n",
    "print ('Number of Positive samples after smote')\n",
    "print (Y_train.sum())\n",
    "\n",
    "# print ('Proportion after smote {}'.format(sum(Y_train)/len(Y_train))\n",
    "\n",
    "X_train = X_train.reshape(-1,X_train.shape[1],1)\n",
    "X_test = X_test.reshape(-1,X_test.shape[1],1)\n",
    "X_val = X_val.reshape(-1,X_val.shape[1],1)\n",
    "print ('Done!')"
   ]
  },
  {
   "cell_type": "markdown",
   "metadata": {},
   "source": [
    "## Keras Model"
   ]
  },
  {
   "cell_type": "markdown",
   "metadata": {},
   "source": [
    "Rewrite it to be compatiable with Deeplift.\n",
    "\n",
    "There is no MaxoutDense in the Deeplift conversion part, so I skipped them for now."
   ]
  },
  {
   "cell_type": "code",
   "execution_count": 66,
   "metadata": {
    "collapsed": true
   },
   "outputs": [],
   "source": [
    "#from keras.regularizers import l1l2\n",
    "from keras.constraints import maxnorm\n",
    "from keras.layers import MaxoutDense\n",
    "from keras.layers import Flatten\n",
    "from keras.layers import MaxPooling1D\n",
    "\n",
    "def simple_keras_model(original):\n",
    "    model = Sequential()\n",
    "    model.add(Convolution1D(512, 5, border_mode='same',activation='relu',init='he_normal',W_constraint=maxnorm(0.5),input_shape =(original.shape[1],1)))\n",
    "    model.add(BatchNormalization())\n",
    "    model.add(MaxPooling1D())\n",
    "    model.add(Dropout(.55))\n",
    "    model.add(Convolution1D(512,5,border_mode='same',activation='relu',init='he_normal',W_constraint=maxnorm(0.5)))\n",
    "    model.add(BatchNormalization())\n",
    "    model.add(MaxPooling1D())\n",
    "    model.add(Dropout(.55))\n",
    "    model.add(Convolution1D(256,5,border_mode='same',activation='relu',init='he_normal',W_constraint=maxnorm(0.5)))\n",
    "    model.add(BatchNormalization())\n",
    "    model.add(Dropout(.55))\n",
    "    model.add(Convolution1D(128,5,border_mode='same',activation='relu',init='he_normal',W_constraint=maxnorm(0.5)))\n",
    "    model.add(BatchNormalization())\n",
    "    model.add(Dropout(.55))\n",
    "    model.add(Convolution1D(128,3,border_mode='same',activation='relu',init='he_normal'))\n",
    "    model.add(BatchNormalization())\n",
    "    model.add(Dropout(.35))\n",
    "    model.add(Convolution1D(128,3,border_mode='same',activation='relu',init='he_normal'))\n",
    "    model.add(BatchNormalization())\n",
    "    model.add(Dropout(.35))\n",
    "    model.add(Convolution1D(128,3,border_mode='same',activation='relu',init='he_normal'))\n",
    "    model.add(BatchNormalization())\n",
    "    model.add(Dropout(.35))\n",
    "    model.add(Convolution1D(128,3,border_mode='same',activation='relu',init='he_normal'))\n",
    "    model.add(BatchNormalization())\n",
    "    model.add(Dropout(.35))\n",
    "    \n",
    "    \n",
    "    \n",
    "    model.add(Flatten())\n",
    "    model.add(Dense(1,activation='sigmoid'))\n",
    "    \n",
    "    \n",
    "    #my_model = Model([original_input], output=output)\n",
    "    optimizer_adam = keras.optimizers.adam(0.001) \n",
    "    model.compile(loss='binary_crossentropy', optimizer=optimizer_adam, metrics=['accuracy'])\n",
    "\n",
    "    return(model)\n"
   ]
  },
  {
   "cell_type": "code",
   "execution_count": 67,
   "metadata": {
    "collapsed": false
   },
   "outputs": [],
   "source": [
    "# Y_train = keras.utils.np_utils.to_categorical(nb_classes=2,y=Y_train)"
   ]
  },
  {
   "cell_type": "code",
   "execution_count": 68,
   "metadata": {
    "collapsed": false
   },
   "outputs": [
    {
     "name": "stdout",
     "output_type": "stream",
     "text": [
      "Epoch 1/20\n",
      "4576/4576 [==============================] - 5s - loss: 0.6702 - acc: 0.6611     \n",
      "Epoch 2/20\n",
      "4576/4576 [==============================] - 1s - loss: 0.5012 - acc: 0.7601     \n",
      "Epoch 3/20\n",
      "4576/4576 [==============================] - 1s - loss: 0.4417 - acc: 0.7959     \n",
      "Epoch 4/20\n",
      "4576/4576 [==============================] - 1s - loss: 0.3919 - acc: 0.8341     \n",
      "Epoch 5/20\n",
      "4576/4576 [==============================] - 1s - loss: 0.3449 - acc: 0.8553     \n",
      "Epoch 6/20\n",
      "4576/4576 [==============================] - 1s - loss: 0.2957 - acc: 0.8844     \n",
      "Epoch 7/20\n",
      "4576/4576 [==============================] - 1s - loss: 0.2624 - acc: 0.8999     \n",
      "Epoch 8/20\n",
      "4576/4576 [==============================] - 1s - loss: 0.2500 - acc: 0.9060     \n",
      "Epoch 9/20\n",
      "4576/4576 [==============================] - 1s - loss: 0.2231 - acc: 0.9150     \n",
      "Epoch 10/20\n",
      "4576/4576 [==============================] - 1s - loss: 0.2074 - acc: 0.9198     \n",
      "Epoch 11/20\n",
      "4576/4576 [==============================] - 1s - loss: 0.1957 - acc: 0.9244     \n",
      "Epoch 12/20\n",
      "4576/4576 [==============================] - 1s - loss: 0.1828 - acc: 0.9329     \n",
      "Epoch 13/20\n",
      "4576/4576 [==============================] - 1s - loss: 0.1539 - acc: 0.9417     \n",
      "Epoch 14/20\n",
      "4576/4576 [==============================] - 1s - loss: 0.1580 - acc: 0.9436     \n",
      "Epoch 15/20\n",
      "4576/4576 [==============================] - 1s - loss: 0.1530 - acc: 0.9414     \n",
      "Epoch 16/20\n",
      "4576/4576 [==============================] - 1s - loss: 0.1398 - acc: 0.9471     \n",
      "Epoch 17/20\n",
      "4576/4576 [==============================] - 1s - loss: 0.1357 - acc: 0.9528     \n",
      "Epoch 18/20\n",
      "4576/4576 [==============================] - 1s - loss: 0.1211 - acc: 0.9598     \n",
      "Epoch 19/20\n",
      "4576/4576 [==============================] - 1s - loss: 0.1250 - acc: 0.9574     \n",
      "Epoch 20/20\n",
      "4576/4576 [==============================] - 1s - loss: 0.1184 - acc: 0.9576     \n"
     ]
    },
    {
     "data": {
      "text/plain": [
       "<keras.callbacks.History at 0x7fc9ebf0c9e8>"
      ]
     },
     "execution_count": 68,
     "metadata": {},
     "output_type": "execute_result"
    }
   ],
   "source": [
    "import tensorflow as tf\n",
    "from keras.models import Sequential\n",
    "my_model = simple_keras_model(X_train)\n",
    "my_model.fit(X_train,Y_train,nb_epoch=20,batch_size=128)"
   ]
  },
  {
   "cell_type": "code",
   "execution_count": 69,
   "metadata": {
    "collapsed": false
   },
   "outputs": [
    {
     "name": "stdout",
     "output_type": "stream",
     "text": [
      "____________________________________________________________________________________________________\n",
      "Layer (type)                     Output Shape          Param #     Connected to                     \n",
      "====================================================================================================\n",
      "convolution1d_25 (Convolution1D) (None, 18, 512)       3072        convolution1d_input_4[0][0]      \n",
      "____________________________________________________________________________________________________\n",
      "batchnormalization_25 (BatchNorm (None, 18, 512)       2048        convolution1d_25[0][0]           \n",
      "____________________________________________________________________________________________________\n",
      "maxpooling1d_7 (MaxPooling1D)    (None, 9, 512)        0           batchnormalization_25[0][0]      \n",
      "____________________________________________________________________________________________________\n",
      "dropout_25 (Dropout)             (None, 9, 512)        0           maxpooling1d_7[0][0]             \n",
      "____________________________________________________________________________________________________\n",
      "convolution1d_26 (Convolution1D) (None, 9, 512)        1311232     dropout_25[0][0]                 \n",
      "____________________________________________________________________________________________________\n",
      "batchnormalization_26 (BatchNorm (None, 9, 512)        2048        convolution1d_26[0][0]           \n",
      "____________________________________________________________________________________________________\n",
      "maxpooling1d_8 (MaxPooling1D)    (None, 4, 512)        0           batchnormalization_26[0][0]      \n",
      "____________________________________________________________________________________________________\n",
      "dropout_26 (Dropout)             (None, 4, 512)        0           maxpooling1d_8[0][0]             \n",
      "____________________________________________________________________________________________________\n",
      "convolution1d_27 (Convolution1D) (None, 4, 256)        655616      dropout_26[0][0]                 \n",
      "____________________________________________________________________________________________________\n",
      "batchnormalization_27 (BatchNorm (None, 4, 256)        1024        convolution1d_27[0][0]           \n",
      "____________________________________________________________________________________________________\n",
      "dropout_27 (Dropout)             (None, 4, 256)        0           batchnormalization_27[0][0]      \n",
      "____________________________________________________________________________________________________\n",
      "convolution1d_28 (Convolution1D) (None, 4, 128)        163968      dropout_27[0][0]                 \n",
      "____________________________________________________________________________________________________\n",
      "batchnormalization_28 (BatchNorm (None, 4, 128)        512         convolution1d_28[0][0]           \n",
      "____________________________________________________________________________________________________\n",
      "dropout_28 (Dropout)             (None, 4, 128)        0           batchnormalization_28[0][0]      \n",
      "____________________________________________________________________________________________________\n",
      "convolution1d_29 (Convolution1D) (None, 4, 128)        49280       dropout_28[0][0]                 \n",
      "____________________________________________________________________________________________________\n",
      "batchnormalization_29 (BatchNorm (None, 4, 128)        512         convolution1d_29[0][0]           \n",
      "____________________________________________________________________________________________________\n",
      "dropout_29 (Dropout)             (None, 4, 128)        0           batchnormalization_29[0][0]      \n",
      "____________________________________________________________________________________________________\n",
      "convolution1d_30 (Convolution1D) (None, 4, 128)        49280       dropout_29[0][0]                 \n",
      "____________________________________________________________________________________________________\n",
      "batchnormalization_30 (BatchNorm (None, 4, 128)        512         convolution1d_30[0][0]           \n",
      "____________________________________________________________________________________________________\n",
      "dropout_30 (Dropout)             (None, 4, 128)        0           batchnormalization_30[0][0]      \n",
      "____________________________________________________________________________________________________\n",
      "convolution1d_31 (Convolution1D) (None, 4, 128)        49280       dropout_30[0][0]                 \n",
      "____________________________________________________________________________________________________\n",
      "batchnormalization_31 (BatchNorm (None, 4, 128)        512         convolution1d_31[0][0]           \n",
      "____________________________________________________________________________________________________\n",
      "dropout_31 (Dropout)             (None, 4, 128)        0           batchnormalization_31[0][0]      \n",
      "____________________________________________________________________________________________________\n",
      "convolution1d_32 (Convolution1D) (None, 4, 128)        49280       dropout_31[0][0]                 \n",
      "____________________________________________________________________________________________________\n",
      "batchnormalization_32 (BatchNorm (None, 4, 128)        512         convolution1d_32[0][0]           \n",
      "____________________________________________________________________________________________________\n",
      "dropout_32 (Dropout)             (None, 4, 128)        0           batchnormalization_32[0][0]      \n",
      "____________________________________________________________________________________________________\n",
      "flatten_4 (Flatten)              (None, 512)           0           dropout_32[0][0]                 \n",
      "____________________________________________________________________________________________________\n",
      "dense_4 (Dense)                  (None, 1)             513         flatten_4[0][0]                  \n",
      "====================================================================================================\n",
      "Total params: 2,339,201\n",
      "Trainable params: 2,335,361\n",
      "Non-trainable params: 3,840\n",
      "____________________________________________________________________________________________________\n"
     ]
    }
   ],
   "source": [
    "my_model.summary()"
   ]
  },
  {
   "cell_type": "markdown",
   "metadata": {},
   "source": [
    "## Deeplift"
   ]
  },
  {
   "cell_type": "markdown",
   "metadata": {},
   "source": [
    "Adjusted from the code provided by the authors of the paper [https://arxiv.org/abs/1704.02685]:\n",
    "https://github.com/kundajelab/deeplift/blob/tensorflow/deeplift/conversion/keras_conversion.py"
   ]
  },
  {
   "cell_type": "code",
   "execution_count": 70,
   "metadata": {
    "collapsed": false
   },
   "outputs": [],
   "source": [
    "import deeplift\n"
   ]
  },
  {
   "cell_type": "code",
   "execution_count": null,
   "metadata": {
    "collapsed": false
   },
   "outputs": [],
   "source": []
  },
  {
   "cell_type": "code",
   "execution_count": 71,
   "metadata": {
    "collapsed": false
   },
   "outputs": [
    {
     "name": "stdout",
     "output_type": "stream",
     "text": [
      "No reference provided - using zeros\n",
      "Done 0\n",
      "Done 1000\n",
      "Done 2000\n",
      "Done 3000\n",
      "Done 4000\n"
     ]
    }
   ],
   "source": [
    "#Convert a keras sequential model\n",
    "import deeplift\n",
    "from deeplift.conversion import keras_conversion as kc\n",
    "#MxtsMode defines the method for computing importance scores. Other supported values are:\n",
    "#Gradient, DeconvNet, GuidedBackprop and GuidedBackpropDeepLIFT (a hybrid of GuidedBackprop and DeepLIFT where\n",
    "#negative multipliers are ignored during backpropagation)\n",
    "deeplift_model = kc.convert_sequential_model(\n",
    "                    my_model,\n",
    "                    nonlinear_mxts_mode=deeplift.blobs.NonlinearMxtsMode.DeepLIFT)\n",
    "\n",
    "#Specify the index of the layer to compute the importance scores of.\n",
    "#In the example below, we find scores for the input layer, which is idx 0 in deeplift_model.get_layers()\n",
    "find_scores_layer_idx = 0\n",
    "\n",
    "#Compile the function that computes the importance scores\n",
    "#For sigmoid or softmax outputs, target_layer_idx should be -2 (the default)\n",
    "#(See \"a note on final activation layers\" in https://arxiv.org/pdf/1605.01713v2.pdf for justification)\n",
    "#For regression tasks with a linear output, target_layer_idx should be -1\n",
    "#(which simply refers to the last layer)\n",
    "#FYI: In the case of MxtsMode.DeepLIFT, the importance scores are also called \"contribution scores\"\n",
    "#If you want the multipliers instead of the contribution scores, you can use get_target_multipliers_func\n",
    "deeplift_contribs_func = deeplift_model.get_target_contribs_func(\n",
    "                            find_scores_layer_idx=find_scores_layer_idx,\n",
    "                            target_layer_idx=-2)\n",
    "\n",
    "#compute scores on inputs\n",
    "#input_data_list is a list containing the data for different input layers\n",
    "#eg: for MNIST, there is one input layer with with dimensions 1 x 28 x 28\n",
    "#In the example below, let X be an array with dimension n x 1 x 28 x 28 where n is the number of examples\n",
    "#task_idx represents the index of the node in the output layer that we wish to compute scores.\n",
    "#Eg: if the output is a 10-way softmax, and task_idx is 0, we will compute scores for the first softmax class\n",
    "scores = np.array(deeplift_contribs_func(task_idx=0,\n",
    "                                         input_data_list=[X_train],\n",
    "                                         batch_size=1,\n",
    "                                         progress_update=1000))"
   ]
  },
  {
   "cell_type": "code",
   "execution_count": 72,
   "metadata": {
    "collapsed": true
   },
   "outputs": [],
   "source": [
    "s = scores.reshape([scores.shape[0],scores.shape[1]])"
   ]
  },
  {
   "cell_type": "markdown",
   "metadata": {},
   "source": [
    "## Results"
   ]
  },
  {
   "cell_type": "code",
   "execution_count": 73,
   "metadata": {
    "collapsed": false
   },
   "outputs": [
    {
     "data": {
      "text/plain": [
       "[('GoldsteinScale', 0),\n",
       " ('numarticles', 1),\n",
       " ('NumMentions', 2),\n",
       " ('avgtone', 3),\n",
       " ('numsources', 4),\n",
       " ('wti_co', 5),\n",
       " ('unemploy', 6),\n",
       " ('m1v', 7),\n",
       " ('m2v', 8),\n",
       " ('slsi', 9),\n",
       " ('vix', 10),\n",
       " ('dff', 11),\n",
       " ('Open', 12),\n",
       " ('High', 13),\n",
       " ('Low', 14),\n",
       " ('Close', 15),\n",
       " ('Adj Close', 16),\n",
       " ('Volume', 17)]"
      ]
     },
     "execution_count": 73,
     "metadata": {},
     "output_type": "execute_result"
    }
   ],
   "source": [
    "list(zip(X_train_df.columns,range(len(X_train_df.columns))))"
   ]
  },
  {
   "cell_type": "code",
   "execution_count": 82,
   "metadata": {
    "collapsed": false
   },
   "outputs": [
    {
     "name": "stdout",
     "output_type": "stream",
     "text": [
      "Populating the interactive namespace from numpy and matplotlib\n"
     ]
    },
    {
     "data": {
      "image/png": "[encoded data removed]",
      "text/plain": [
       "<matplotlib.figure.Figure at 0x7fc9ec0d7da0>"
      ]
     },
     "metadata": {},
     "output_type": "display_data"
    }
   ],
   "source": [
    "%pylab inline\n",
    "pylab.rcParams['figure.figsize'] = (25, 8)\n",
    "\n",
    "plt.figure()\n",
    "data=[s[i] for i in range(18)]\n",
    "plt.boxplot(data)\n",
    "plt.show()"
   ]
  },
  {
   "cell_type": "markdown",
   "metadata": {},
   "source": [
    "### Here is where there's an issue. Data is only 18x18? Should be  4576 x 18 see s in the next cell"
   ]
  },
  {
   "cell_type": "code",
   "execution_count": 91,
   "metadata": {
    "collapsed": false
   },
   "outputs": [
    {
     "data": {
      "text/plain": [
       "(18, 18)"
      ]
     },
     "execution_count": 91,
     "metadata": {},
     "output_type": "execute_result"
    }
   ],
   "source": [
    "np.array(data).shape"
   ]
  },
  {
   "cell_type": "code",
   "execution_count": 92,
   "metadata": {
    "collapsed": false
   },
   "outputs": [
    {
     "data": {
      "text/plain": [
       "(4576, 18)"
      ]
     },
     "execution_count": 92,
     "metadata": {},
     "output_type": "execute_result"
    }
   ],
   "source": [
    "np.array(s).shape"
   ]
  },
  {
   "cell_type": "markdown",
   "metadata": {},
   "source": [
    "### This fixes the issue"
   ]
  },
  {
   "cell_type": "code",
   "execution_count": 105,
   "metadata": {
    "collapsed": false
   },
   "outputs": [
    {
     "data": {
      "text/plain": [
       "<matplotlib.axes._subplots.AxesSubplot at 0x7fc9e4da3588>"
      ]
     },
     "execution_count": 105,
     "metadata": {},
     "output_type": "execute_result"
    },
    {
     "data": {
      "image/png": "[encoded data removed]",
      "text/plain": [
       "<matplotlib.figure.Figure at 0x7fc9e4ce9f98>"
      ]
     },
     "metadata": {},
     "output_type": "display_data"
    }
   ],
   "source": [
    "data = pd.DataFrame(s)\n",
    "data.columns = X_train_df.columns\n",
    "data.plot.box()\n"
   ]
  },
  {
   "cell_type": "code",
   "execution_count": null,
   "metadata": {
    "collapsed": false
   },
   "outputs": [],
   "source": []
  },
  {
   "cell_type": "markdown",
   "metadata": {},
   "source": [
    "### Now we have positives and negatives so before we take the mean we want to take the abs before we take the mean"
   ]
  },
  {
   "cell_type": "code",
   "execution_count": 106,
   "metadata": {
    "collapsed": false
   },
   "outputs": [],
   "source": [
    "## Using your code\n",
    "mean_df = data.abs().mean()"
   ]
  },
  {
   "cell_type": "code",
   "execution_count": 107,
   "metadata": {
    "collapsed": false
   },
   "outputs": [
    {
     "data": {
      "text/plain": [
       "Volume            0.254144\n",
       "Low               0.303112\n",
       "Adj Close         0.303970\n",
       "Close             0.307754\n",
       "numarticles       0.457610\n",
       "NumMentions       0.476936\n",
       "High              0.498255\n",
       "Open              0.535659\n",
       "GoldsteinScale    0.550764\n",
       "numsources        0.592887\n",
       "m2v               0.715740\n",
       "avgtone           0.738198\n",
       "dff               1.017171\n",
       "vix               1.208478\n",
       "slsi              1.243329\n",
       "m1v               1.264436\n",
       "unemploy          1.445324\n",
       "wti_co            1.480746\n",
       "dtype: float32"
      ]
     },
     "execution_count": 107,
     "metadata": {},
     "output_type": "execute_result"
    }
   ],
   "source": [
    "mean_df.T.sort_values()"
   ]
  },
  {
   "cell_type": "code",
   "execution_count": null,
   "metadata": {
    "collapsed": true
   },
   "outputs": [],
   "source": []
  },
  {
   "cell_type": "code",
   "execution_count": null,
   "metadata": {
    "collapsed": false
   },
   "outputs": [],
   "source": []
  },
  {
   "cell_type": "code",
   "execution_count": null,
   "metadata": {
    "collapsed": false
   },
   "outputs": [],
   "source": []
  },
  {
   "cell_type": "code",
   "execution_count": null,
   "metadata": {
    "collapsed": false
   },
   "outputs": [],
   "source": []
  },
  {
   "cell_type": "markdown",
   "metadata": {},
   "source": [
    "It seems that sentiment features like 'GoldsteinScale' and 'avgtone' are more important than volume features. But finanical features like 'unemploy' and 'wit_co' are even more important than these sentiment metrics."
   ]
  },
  {
   "cell_type": "code",
   "execution_count": null,
   "metadata": {
    "collapsed": true
   },
   "outputs": [],
   "source": []
  }
 ],
 "metadata": {
  "anaconda-cloud": {},
  "kernelspec": {
   "display_name": "Python 3",
   "language": "python",
   "name": "python3"
  },
  "language_info": {
   "codemirror_mode": {
    "name": "ipython",
    "version": 3
   },
   "file_extension": ".py",
   "mimetype": "text/x-python",
   "name": "python",
   "nbconvert_exporter": "python",
   "pygments_lexer": "ipython3",
   "version": "3.6.0"
  }
 },
 "nbformat": 4,
 "nbformat_minor": 2
}
