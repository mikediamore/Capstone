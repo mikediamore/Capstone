{
 "cells": [
  {
   "cell_type": "markdown",
   "metadata": {},
   "source": [
    "Instead of focusing on market events, I moved on to the fluctuation of S&P500 index. If we can predict whether it will increase or decrease the next day, we can make investments out of it. Here I did a long-short on SPY."
   ]
  },
  {
   "cell_type": "markdown",
   "metadata": {},
   "source": [
    "Outline\n",
    "* Keras Model for predicting ups and downs\n",
    "* Calculating profit using long-short strategy\n",
    "* DeepLIFT for predicting model"
   ]
  },
  {
   "cell_type": "markdown",
   "metadata": {},
   "source": [
    "## Load and perpare data"
   ]
  },
  {
   "cell_type": "code",
   "execution_count": 1,
   "metadata": {},
   "outputs": [
    {
     "name": "stderr",
     "output_type": "stream",
     "text": [
      "/anaconda/lib/python3.6/importlib/_bootstrap.py:205: RuntimeWarning: compiletime version 3.5 of module 'tensorflow.python.framework.fast_tensor_util' does not match runtime version 3.6\n",
      "  return f(*args, **kwds)\n",
      "Using TensorFlow backend.\n"
     ]
    }
   ],
   "source": [
    "%matplotlib inline\n",
    "import tensorflow as tf\n",
    "import numpy as np\n",
    "# np.random.seed(12345) # Set seed\n",
    "\n",
    "# import Query as query\n",
    "import pandas as pd\n",
    "from imblearn.combine import SMOTEENN \n",
    "from sklearn.mixture import GaussianMixture\n",
    "from sklearn.model_selection import train_test_split\n",
    "from sklearn.preprocessing import StandardScaler,PolynomialFeatures\n",
    "from sklearn.decomposition import PCA\n",
    "from sklearn.utils import resample\n",
    "from keras.layers import Dense,BatchNormalization,Input,Convolution1D,GRU,Dropout\n",
    "#from keras.models import Model\n",
    "import keras\n",
    "#import pdb\n",
    "from sklearn.metrics import accuracy_score,f1_score,roc_auc_score,recall_score,precision_score\n",
    "import warnings\n",
    "import matplotlib.pyplot as plt\n",
    "import deeplift"
   ]
  },
  {
   "cell_type": "code",
   "execution_count": 2,
   "metadata": {},
   "outputs": [
    {
     "data": {
      "text/plain": [
       "'1.2.2'"
      ]
     },
     "execution_count": 2,
     "metadata": {},
     "output_type": "execute_result"
    }
   ],
   "source": [
    "keras.__version__"
   ]
  },
  {
   "cell_type": "code",
   "execution_count": 2,
   "metadata": {
    "collapsed": true
   },
   "outputs": [],
   "source": [
    "collapsed_shifted = pd.read_csv('collapsed_shifted.csv',index_col=0)\n",
    "#event_idx = pd.read_csv('event_idx.csv',header=None,index_col=0)\n",
    "#event_idx = np.array(event_idx).flatten()"
   ]
  },
  {
   "cell_type": "markdown",
   "metadata": {},
   "source": [
    "Labeling the days with increasing S&P500 index price with 1 and decreasing with 0."
   ]
  },
  {
   "cell_type": "code",
   "execution_count": 3,
   "metadata": {
    "collapsed": true
   },
   "outputs": [],
   "source": [
    "diff = collapsed_shifted['Adj Close'].diff()\n",
    "diff[diff>0]=1\n",
    "diff[diff<0]=0"
   ]
  },
  {
   "cell_type": "code",
   "execution_count": 4,
   "metadata": {
    "collapsed": true
   },
   "outputs": [],
   "source": [
    "labels = np.array(diff).astype(int).flatten()\n",
    "labels = pd.Series(labels,index=collapsed_shifted.index)"
   ]
  },
  {
   "cell_type": "code",
   "execution_count": 5,
   "metadata": {
    "collapsed": true
   },
   "outputs": [],
   "source": [
    "event_idx = labels.drop(['2000-07-03'])\n",
    "collapsed_shifted = collapsed_shifted.drop(['2000-07-03'])"
   ]
  },
  {
   "cell_type": "code",
   "execution_count": 6,
   "metadata": {},
   "outputs": [
    {
     "name": "stdout",
     "output_type": "stream",
     "text": [
      "Creating train test split...\n"
     ]
    }
   ],
   "source": [
    "print ('Creating train test split...')\n",
    "X_train,X_test,Y_train,Y_test = train_test_split(collapsed_shifted,event_idx,stratify=None,test_size=.20,shuffle=False)\n",
    "X_train,X_val,Y_train,Y_val = train_test_split(X_train,Y_train,test_size=.20,stratify=None,shuffle=False)\n",
    "\n",
    "#Creating Copies of Data Frames these will be useful later for debugging\n",
    "X_train_df = X_train.copy(True)\n",
    "Y_train_df = Y_train.copy(True)\n",
    "Y_val_df = Y_val.copy(True)\n",
    "X_train  = np.array(X_train)\n",
    "X_val = np.array(X_val)\n",
    "X_test = np.array(X_test)"
   ]
  },
  {
   "cell_type": "code",
   "execution_count": 10,
   "metadata": {
    "collapsed": true
   },
   "outputs": [],
   "source": [
    "X_train = X_train.reshape(-1,X_train.shape[1],1)\n",
    "X_test = X_test.reshape(-1,X_test.shape[1],1)\n",
    "X_val = X_val.reshape(-1,X_val.shape[1],1)"
   ]
  },
  {
   "cell_type": "markdown",
   "metadata": {},
   "source": [
    "## Keras Model"
   ]
  },
  {
   "cell_type": "code",
   "execution_count": 36,
   "metadata": {
    "collapsed": true
   },
   "outputs": [],
   "source": [
    "#from keras.regularizers import l1l2\n",
    "from keras.constraints import maxnorm\n",
    "from keras.layers import MaxoutDense\n",
    "from keras.layers import Flatten\n",
    "from keras.layers import MaxPooling1D\n",
    "\n",
    "def simple_keras_model(original):\n",
    "    model = Sequential()\n",
    "    model.add(Convolution1D(128, 5, border_mode='same',activation='relu',init='he_normal',W_constraint=maxnorm(0.5),input_shape =(original.shape[1],1)))\n",
    "    model.add(BatchNormalization())\n",
    "    model.add(MaxPooling1D())\n",
    "    #model.add(Dropout(.55))\n",
    "    #model.add(Convolution1D(512,5,border_mode='same',activation='relu',init='he_normal',W_constraint=maxnorm(0.5)))\n",
    "    #model.add(BatchNormalization())\n",
    "    #model.add(MaxPooling1D())\n",
    "    #model.add(Dropout(.55))\n",
    "    #model.add(Convolution1D(256,5,border_mode='same',activation='relu',init='he_normal',W_constraint=maxnorm(0.5)))\n",
    "    #model.add(BatchNormalization())\n",
    "    #model.add(Dropout(.55))\n",
    "    #model.add(Convolution1D(128,5,border_mode='same',activation='relu',init='he_normal',W_constraint=maxnorm(0.5)))\n",
    "    #model.add(BatchNormalization())\n",
    "    #model.add(Dropout(.55))\n",
    "    #model.add(Convolution1D(128,3,border_mode='same',activation='relu',init='he_normal'))\n",
    "    #model.add(BatchNormalization())\n",
    "    #model.add(Dropout(.35))\n",
    "    #model.add(Convolution1D(128,3,border_mode='same',activation='relu',init='he_normal'))\n",
    "    #model.add(BatchNormalization())\n",
    "    #model.add(Dropout(.35))\n",
    "    #model.add(Convolution1D(128,3,border_mode='same',activation='relu',init='he_normal'))\n",
    "    #model.add(BatchNormalization())\n",
    "    #model.add(Dropout(.35))\n",
    "    #model.add(Convolution1D(128,3,border_mode='same',activation='relu',init='he_normal'))\n",
    "    #model.add(BatchNormalization())\n",
    "    #model.add(Dropout(.35))\n",
    "    \n",
    "    \n",
    "    model.add(Flatten())\n",
    "    #model.add(Dense(1024,activation='relu',init='he_normal'))\n",
    "    #model.add(Dense(512,activation='relu',init='he_normal'))\n",
    "    model.add(Dense(64,activation='relu',init='he_normal'))\n",
    "    #model.add(Dropout(0.35))\n",
    "    \n",
    "    model.add(Dense(2,activation='softmax'))\n",
    "    \n",
    "    \n",
    "    #my_model = Model([original_input], output=output)\n",
    "    optimizer_adam = keras.optimizers.adam(0.001) \n",
    "    model.compile(loss='binary_crossentropy', optimizer=optimizer_adam, metrics=['accuracy'])\n",
    "\n",
    "    return(model)\n"
   ]
  },
  {
   "cell_type": "code",
   "execution_count": 8,
   "metadata": {
    "collapsed": true
   },
   "outputs": [],
   "source": [
    "Y_train = keras.utils.np_utils.to_categorical(nb_classes=2,y=Y_train)"
   ]
  },
  {
   "cell_type": "code",
   "execution_count": 37,
   "metadata": {},
   "outputs": [
    {
     "name": "stdout",
     "output_type": "stream",
     "text": [
      "Epoch 1/50\n",
      "2779/2779 [==============================] - 3s - loss: 0.7476 - acc: 0.5916     \n",
      "Epoch 2/50\n",
      "2779/2779 [==============================] - 1s - loss: 0.4941 - acc: 0.7632     \n",
      "Epoch 3/50\n",
      "2779/2779 [==============================] - 1s - loss: 0.3960 - acc: 0.8276     \n",
      "Epoch 4/50\n",
      "2779/2779 [==============================] - 0s - loss: 0.3376 - acc: 0.8550     \n",
      "Epoch 5/50\n",
      "2779/2779 [==============================] - 0s - loss: 0.2996 - acc: 0.8744     \n",
      "Epoch 6/50\n",
      "2779/2779 [==============================] - 1s - loss: 0.2587 - acc: 0.8942     \n",
      "Epoch 7/50\n",
      "2779/2779 [==============================] - 0s - loss: 0.2226 - acc: 0.9169     \n",
      "Epoch 8/50\n",
      "2779/2779 [==============================] - 0s - loss: 0.2216 - acc: 0.9108     \n",
      "Epoch 9/50\n",
      "2779/2779 [==============================] - 1s - loss: 0.2068 - acc: 0.9187     \n",
      "Epoch 10/50\n",
      "2779/2779 [==============================] - 1s - loss: 0.1834 - acc: 0.9298     \n",
      "Epoch 11/50\n",
      "2779/2779 [==============================] - 1s - loss: 0.1882 - acc: 0.9252     \n",
      "Epoch 12/50\n",
      "2779/2779 [==============================] - 0s - loss: 0.1910 - acc: 0.9280     \n",
      "Epoch 13/50\n",
      "2779/2779 [==============================] - 0s - loss: 0.1880 - acc: 0.9208     \n",
      "Epoch 14/50\n",
      "2779/2779 [==============================] - 1s - loss: 0.1599 - acc: 0.9421     \n",
      "Epoch 15/50\n",
      "2779/2779 [==============================] - 0s - loss: 0.1499 - acc: 0.9424     \n",
      "Epoch 16/50\n",
      "2779/2779 [==============================] - 1s - loss: 0.1465 - acc: 0.9449     \n",
      "Epoch 17/50\n",
      "2779/2779 [==============================] - 0s - loss: 0.1198 - acc: 0.9687     \n",
      "Epoch 18/50\n",
      "2779/2779 [==============================] - 1s - loss: 0.1053 - acc: 0.9683     \n",
      "Epoch 19/50\n",
      "2779/2779 [==============================] - 1s - loss: 0.1022 - acc: 0.9705     \n",
      "Epoch 20/50\n",
      "2779/2779 [==============================] - 0s - loss: 0.0964 - acc: 0.9741     \n",
      "Epoch 21/50\n",
      "2779/2779 [==============================] - 1s - loss: 0.1040 - acc: 0.9676     \n",
      "Epoch 22/50\n",
      "2779/2779 [==============================] - 0s - loss: 0.1118 - acc: 0.9604     \n",
      "Epoch 23/50\n",
      "2779/2779 [==============================] - 1s - loss: 0.0896 - acc: 0.9737     \n",
      "Epoch 24/50\n",
      "2779/2779 [==============================] - 1s - loss: 0.0987 - acc: 0.9694     \n",
      "Epoch 25/50\n",
      "2779/2779 [==============================] - 1s - loss: 0.0847 - acc: 0.9730     \n",
      "Epoch 26/50\n",
      "2779/2779 [==============================] - 1s - loss: 0.0805 - acc: 0.9759     \n",
      "Epoch 27/50\n",
      "2779/2779 [==============================] - 1s - loss: 0.0698 - acc: 0.9802     \n",
      "Epoch 28/50\n",
      "2779/2779 [==============================] - 0s - loss: 0.0786 - acc: 0.9752     \n",
      "Epoch 29/50\n",
      "2779/2779 [==============================] - 1s - loss: 0.0780 - acc: 0.9734     \n",
      "Epoch 30/50\n",
      "2779/2779 [==============================] - 1s - loss: 0.1043 - acc: 0.9597     \n",
      "Epoch 31/50\n",
      "2779/2779 [==============================] - 1s - loss: 0.0643 - acc: 0.9838     \n",
      "Epoch 32/50\n",
      "2779/2779 [==============================] - 1s - loss: 0.0629 - acc: 0.9827     \n",
      "Epoch 33/50\n",
      "2779/2779 [==============================] - 0s - loss: 0.0560 - acc: 0.9870     - ETA: 0s - loss: 0.0545 - acc\n",
      "Epoch 34/50\n",
      "2779/2779 [==============================] - 0s - loss: 0.0469 - acc: 0.9910     \n",
      "Epoch 35/50\n",
      "2779/2779 [==============================] - 0s - loss: 0.0475 - acc: 0.9906     \n",
      "Epoch 36/50\n",
      "2779/2779 [==============================] - 1s - loss: 0.0616 - acc: 0.9809     \n",
      "Epoch 37/50\n",
      "2779/2779 [==============================] - 0s - loss: 0.0523 - acc: 0.9874     \n",
      "Epoch 38/50\n",
      "2779/2779 [==============================] - 1s - loss: 0.0462 - acc: 0.9881     \n",
      "Epoch 39/50\n",
      "2779/2779 [==============================] - 0s - loss: 0.0384 - acc: 0.9939     \n",
      "Epoch 40/50\n",
      "2779/2779 [==============================] - 0s - loss: 0.0404 - acc: 0.9910     \n",
      "Epoch 41/50\n",
      "2779/2779 [==============================] - 0s - loss: 0.0377 - acc: 0.9935     \n",
      "Epoch 42/50\n",
      "2779/2779 [==============================] - 0s - loss: 0.0362 - acc: 0.9921     - ETA: 0s - loss: 0.0358 - acc: \n",
      "Epoch 43/50\n",
      "2779/2779 [==============================] - 0s - loss: 0.0348 - acc: 0.9928     \n",
      "Epoch 44/50\n",
      "2779/2779 [==============================] - 0s - loss: 0.0343 - acc: 0.9935     \n",
      "Epoch 45/50\n",
      "2779/2779 [==============================] - 0s - loss: 0.0446 - acc: 0.9881     \n",
      "Epoch 46/50\n",
      "2779/2779 [==============================] - 1s - loss: 0.0569 - acc: 0.9809     \n",
      "Epoch 47/50\n",
      "2779/2779 [==============================] - 1s - loss: 0.0556 - acc: 0.9798     \n",
      "Epoch 48/50\n",
      "2779/2779 [==============================] - 0s - loss: 0.0447 - acc: 0.9878     \n",
      "Epoch 49/50\n",
      "2779/2779 [==============================] - 1s - loss: 0.0339 - acc: 0.9924     \n",
      "Epoch 50/50\n",
      "2779/2779 [==============================] - 1s - loss: 0.0278 - acc: 0.9953     \n"
     ]
    },
    {
     "data": {
      "text/plain": [
       "<keras.callbacks.History at 0x1a49f74f60>"
      ]
     },
     "execution_count": 37,
     "metadata": {},
     "output_type": "execute_result"
    }
   ],
   "source": [
    "import tensorflow as tf\n",
    "from keras.models import Sequential\n",
    "my_model = simple_keras_model(X_train)\n",
    "my_model.fit(X_train,Y_train,nb_epoch=50 ,batch_size=128)"
   ]
  },
  {
   "cell_type": "code",
   "execution_count": 32,
   "metadata": {
    "collapsed": true
   },
   "outputs": [],
   "source": [
    "def softmax_to_label(pred):\n",
    "    ones = np.argmax(pred,1)\n",
    "    return(ones)"
   ]
  },
  {
   "cell_type": "code",
   "execution_count": 38,
   "metadata": {
    "collapsed": true
   },
   "outputs": [],
   "source": [
    "probas = my_model.predict(X_val)\n",
    "preds = softmax_to_label(probas)"
   ]
  },
  {
   "cell_type": "code",
   "execution_count": 34,
   "metadata": {
    "collapsed": true
   },
   "outputs": [],
   "source": [
    "from sklearn.metrics import average_precision_score, precision_recall_curve, auc"
   ]
  },
  {
   "cell_type": "code",
   "execution_count": 39,
   "metadata": {},
   "outputs": [
    {
     "name": "stdout",
     "output_type": "stream",
     "text": [
      " On Validation Set\n",
      " Accuracy: 0.8776978417266187\n",
      " F1: 0.883720930232558\n",
      " RoC: 0.8781159420289856\n",
      " Precision: 0.8367875647668394\n",
      " Recall: 0.936231884057971\n",
      " Area under PR curve 0.9023370625419016\n"
     ]
    }
   ],
   "source": [
    "acc = accuracy_score(Y_val,preds)\n",
    "f1 = f1_score(Y_val,preds)\n",
    "roc = roc_auc_score(Y_val,preds)\n",
    "prec = precision_score(Y_val,preds)\n",
    "recall2= recall_score(Y_val,preds)\n",
    "\n",
    "\n",
    "precision, recall, _ = precision_recall_curve(Y_val,preds)\n",
    "avg_prec = average_precision_score(Y_val,preds)\n",
    "area_under_prec_rec = auc(x=recall,y=precision)\n",
    "\n",
    "print (' On Validation Set')\n",
    "print (' Accuracy: {}'.format(acc))\n",
    "print (' F1: {}'.format(f1))\n",
    "print (' RoC: {}'.format(roc))\n",
    "print (' Precision: {}'.format(prec))\n",
    "print (' Recall: {}'.format(recall2))\n",
    "print (' Area under PR curve {}'.format(area_under_prec_rec))"
   ]
  },
  {
   "cell_type": "markdown",
   "metadata": {},
   "source": [
    "## Take into business"
   ]
  },
  {
   "cell_type": "markdown",
   "metadata": {},
   "source": [
    "Use long-short strategy with predicted ups and downs for SPY "
   ]
  },
  {
   "cell_type": "code",
   "execution_count": 73,
   "metadata": {},
   "outputs": [],
   "source": [
    "results = pd.DataFrame()\n",
    "results['Truth'] = pd.Series(Y_val.values, index=Y_val.index)\n",
    "results['Pred'] = pd.Series(preds, index=results.index)"
   ]
  },
  {
   "cell_type": "code",
   "execution_count": 76,
   "metadata": {
    "collapsed": true
   },
   "outputs": [],
   "source": [
    "SPY = pd.read_csv('SPY.csv',index_col=0)"
   ]
  },
  {
   "cell_type": "code",
   "execution_count": 95,
   "metadata": {},
   "outputs": [],
   "source": [
    "next_day = SPY['Adj Close']\n",
    "previous_day = SPY['Adj Close'].shift(1)\n",
    "rate = (next_day-previous_day)/previous_day"
   ]
  },
  {
   "cell_type": "code",
   "execution_count": 96,
   "metadata": {},
   "outputs": [],
   "source": [
    "results['rate'] = pd.Series(rate.loc[results.index], index=results.index)"
   ]
  },
  {
   "cell_type": "code",
   "execution_count": 107,
   "metadata": {},
   "outputs": [],
   "source": [
    "up = results.index[results['Pred']==1]\n",
    "down = results.index[results['Pred']==0]"
   ]
  },
  {
   "cell_type": "code",
   "execution_count": 108,
   "metadata": {
    "collapsed": true
   },
   "outputs": [],
   "source": [
    "results['long_profit'] = results['rate'].loc[up]+1\n",
    "results['short_profit'] = results['rate'].loc[down].abs()+1"
   ]
  },
  {
   "cell_type": "code",
   "execution_count": 114,
   "metadata": {},
   "outputs": [],
   "source": [
    "results['profit'] = results[[\"long_profit\", \"short_profit\"]].max(axis=1)"
   ]
  },
  {
   "cell_type": "markdown",
   "metadata": {},
   "source": [
    "The profit would be more than 12 times of the beginning investment, excluding the commissions and other costs."
   ]
  },
  {
   "cell_type": "code",
   "execution_count": 119,
   "metadata": {},
   "outputs": [
    {
     "data": {
      "text/plain": [
       "12.817001591897178"
      ]
     },
     "execution_count": 119,
     "metadata": {},
     "output_type": "execute_result"
    }
   ],
   "source": [
    "np.prod(results['profit'])"
   ]
  },
  {
   "cell_type": "code",
   "execution_count": null,
   "metadata": {
    "collapsed": true
   },
   "outputs": [],
   "source": []
  },
  {
   "cell_type": "markdown",
   "metadata": {},
   "source": [
    "## Deeplift"
   ]
  },
  {
   "cell_type": "markdown",
   "metadata": {},
   "source": [
    "Also did deeplift for this model. Similarly, Gdelt features are getting the lowest importance scores."
   ]
  },
  {
   "cell_type": "markdown",
   "metadata": {},
   "source": [
    "Adjusted from the code provided by the authors of the paper [https://arxiv.org/abs/1704.02685]:\n",
    "https://github.com/kundajelab/deeplift/blob/tensorflow/deeplift/conversion/keras_conversion.py"
   ]
  },
  {
   "cell_type": "code",
   "execution_count": 40,
   "metadata": {},
   "outputs": [
    {
     "name": "stdout",
     "output_type": "stream",
     "text": [
      "No reference provided - using zeros\n",
      "Done 0\n",
      "Done 1000\n",
      "Done 2000\n"
     ]
    }
   ],
   "source": [
    "#Convert a keras sequential model\n",
    "import deeplift\n",
    "from deeplift.conversion import keras_conversion as kc\n",
    "#MxtsMode defines the method for computing importance scores. Other supported values are:\n",
    "#Gradient, DeconvNet, GuidedBackprop and GuidedBackpropDeepLIFT (a hybrid of GuidedBackprop and DeepLIFT where\n",
    "#negative multipliers are ignored during backpropagation)\n",
    "deeplift_model = kc.convert_sequential_model(\n",
    "                    my_model,\n",
    "                    nonlinear_mxts_mode=deeplift.blobs.NonlinearMxtsMode.DeepLIFT)\n",
    "\n",
    "#Specify the index of the layer to compute the importance scores of.\n",
    "#In the example below, we find scores for the input layer, which is idx 0 in deeplift_model.get_layers()\n",
    "find_scores_layer_idx = 0\n",
    "\n",
    "#Compile the function that computes the importance scores\n",
    "#For sigmoid or softmax outputs, target_layer_idx should be -2 (the default)\n",
    "#(See \"a note on final activation layers\" in https://arxiv.org/pdf/1605.01713v2.pdf for justification)\n",
    "#For regression tasks with a linear output, target_layer_idx should be -1\n",
    "#(which simply refers to the last layer)\n",
    "#FYI: In the case of MxtsMode.DeepLIFT, the importance scores are also called \"contribution scores\"\n",
    "#If you want the multipliers instead of the contribution scores, you can use get_target_multipliers_func\n",
    "deeplift_contribs_func = deeplift_model.get_target_contribs_func(\n",
    "                            find_scores_layer_idx=find_scores_layer_idx,\n",
    "                            target_layer_idx=-2)\n",
    "\n",
    "#compute scores on inputs\n",
    "#input_data_list is a list containing the data for different input layers\n",
    "#eg: for MNIST, there is one input layer with with dimensions 1 x 28 x 28\n",
    "#In the example below, let X be an array with dimension n x 1 x 28 x 28 where n is the number of examples\n",
    "#task_idx represents the index of the node in the output layer that we wish to compute scores.\n",
    "#Eg: if the output is a 10-way softmax, and task_idx is 0, we will compute scores for the first softmax class\n",
    "scores = np.array(deeplift_contribs_func(task_idx=0,\n",
    "                                         input_data_list=[X_train],\n",
    "                                         batch_size=1,\n",
    "                                         progress_update=1000))"
   ]
  },
  {
   "cell_type": "code",
   "execution_count": 41,
   "metadata": {
    "collapsed": true
   },
   "outputs": [],
   "source": [
    "s = scores.reshape([scores.shape[0],scores.shape[1]])"
   ]
  },
  {
   "cell_type": "markdown",
   "metadata": {},
   "source": [
    "## Results"
   ]
  },
  {
   "cell_type": "code",
   "execution_count": 14,
   "metadata": {},
   "outputs": [
    {
     "data": {
      "text/plain": [
       "[('GoldsteinScale', 0),\n",
       " ('numarticles', 1),\n",
       " ('NumMentions', 2),\n",
       " ('avgtone', 3),\n",
       " ('numsources', 4),\n",
       " ('wti_co', 5),\n",
       " ('unemploy', 6),\n",
       " ('m1v', 7),\n",
       " ('m2v', 8),\n",
       " ('slsi', 9),\n",
       " ('vix', 10),\n",
       " ('dff', 11),\n",
       " ('Open', 12),\n",
       " ('High', 13),\n",
       " ('Low', 14),\n",
       " ('Close', 15),\n",
       " ('Adj Close', 16),\n",
       " ('Volume', 17)]"
      ]
     },
     "execution_count": 14,
     "metadata": {},
     "output_type": "execute_result"
    }
   ],
   "source": [
    "list(zip(X_train_df.columns,range(len(X_train_df.columns))))"
   ]
  },
  {
   "cell_type": "code",
   "execution_count": 42,
   "metadata": {},
   "outputs": [
    {
     "name": "stdout",
     "output_type": "stream",
     "text": [
      "Populating the interactive namespace from numpy and matplotlib\n"
     ]
    },
    {
     "name": "stderr",
     "output_type": "stream",
     "text": [
      "/anaconda/lib/python3.6/site-packages/IPython/core/magics/pylab.py:161: UserWarning: pylab import has clobbered these variables: ['diff']\n",
      "`%matplotlib` prevents importing * from pylab and numpy\n",
      "  \"\\n`%matplotlib` prevents importing * from pylab and numpy\"\n"
     ]
    },
    {
     "data": {
      "text/plain": [
       "<matplotlib.axes._subplots.AxesSubplot at 0x1a4a55a208>"
      ]
     },
     "execution_count": 42,
     "metadata": {},
     "output_type": "execute_result"
    },
    {
     "data": {
      "image/png": "[encoded data removed]",
      "text/plain": [
       "<matplotlib.figure.Figure at 0x1a4a542b38>"
      ]
     },
     "metadata": {},
     "output_type": "display_data"
    }
   ],
   "source": [
    "%pylab inline\n",
    "pylab.rcParams['figure.figsize'] = (25, 8)\n",
    "data = pd.DataFrame(s)\n",
    "data.columns = X_train_df.columns\n",
    "data.plot.box()\n"
   ]
  },
  {
   "cell_type": "code",
   "execution_count": null,
   "metadata": {
    "collapsed": true
   },
   "outputs": [],
   "source": []
  },
  {
   "cell_type": "markdown",
   "metadata": {},
   "source": [
    "### Now we have positives and negatives so before we take the mean we want to take the abs before we take the mean in your code you were taking it after"
   ]
  },
  {
   "cell_type": "code",
   "execution_count": 43,
   "metadata": {
    "collapsed": true
   },
   "outputs": [],
   "source": [
    "## Using your code\n",
    "mean_df = data.abs().mean()"
   ]
  },
  {
   "cell_type": "code",
   "execution_count": 44,
   "metadata": {},
   "outputs": [
    {
     "data": {
      "text/plain": [
       "GoldsteinScale     0.264869\n",
       "NumMentions        0.269504\n",
       "numsources         0.502513\n",
       "m2v                0.540100\n",
       "avgtone            0.545747\n",
       "Volume             0.585855\n",
       "numarticles        0.616819\n",
       "m1v                0.619760\n",
       "slsi               0.643633\n",
       "vix                0.657326\n",
       "wit_co             0.693039\n",
       "unemploy           0.756657\n",
       "dff                1.061208\n",
       "Low                3.911338\n",
       "High               8.246509\n",
       "Adj Close         14.772058\n",
       "Close             17.435398\n",
       "Open              27.238781\n",
       "dtype: float32"
      ]
     },
     "execution_count": 44,
     "metadata": {},
     "output_type": "execute_result"
    }
   ],
   "source": [
    "mean_df.T.sort_values()"
   ]
  },
  {
   "cell_type": "code",
   "execution_count": null,
   "metadata": {
    "collapsed": true
   },
   "outputs": [],
   "source": []
  },
  {
   "cell_type": "code",
   "execution_count": null,
   "metadata": {
    "collapsed": true
   },
   "outputs": [],
   "source": []
  },
  {
   "cell_type": "code",
   "execution_count": null,
   "metadata": {
    "collapsed": true
   },
   "outputs": [],
   "source": []
  }
 ],
 "metadata": {
  "anaconda-cloud": {},
  "kernelspec": {
   "display_name": "Python 3",
   "language": "python",
   "name": "python3"
  },
  "language_info": {
   "codemirror_mode": {
    "name": "ipython",
    "version": 3
   },
   "file_extension": ".py",
   "mimetype": "text/x-python",
   "name": "python",
   "nbconvert_exporter": "python",
   "pygments_lexer": "ipython3",
   "version": "3.6.1"
  }
 },
 "nbformat": 4,
 "nbformat_minor": 2
}
