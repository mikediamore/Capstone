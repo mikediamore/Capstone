{
 "cells": [
  {
   "cell_type": "markdown",
   "metadata": {},
   "source": [
    "# Feature Importance -- Deeplift"
   ]
  },
  {
   "cell_type": "markdown",
   "metadata": {},
   "source": [
    "## Load and perpare data"
   ]
  },
  {
   "cell_type": "code",
   "execution_count": 1,
   "metadata": {},
   "outputs": [
    {
     "name": "stderr",
     "output_type": "stream",
     "text": [
      "/anaconda/lib/python3.6/importlib/_bootstrap.py:205: RuntimeWarning: compiletime version 3.5 of module 'tensorflow.python.framework.fast_tensor_util' does not match runtime version 3.6\n",
      "  return f(*args, **kwds)\n",
      "Using TensorFlow backend.\n"
     ]
    }
   ],
   "source": [
    "%matplotlib inline\n",
    "import tensorflow as tf\n",
    "import numpy as np\n",
    "# np.random.seed(12345) # Set seed\n",
    "\n",
    "import pandas as pd\n",
    "from imblearn.combine import SMOTEENN \n",
    "from sklearn.mixture import GaussianMixture\n",
    "from sklearn.model_selection import train_test_split\n",
    "from sklearn.preprocessing import StandardScaler,PolynomialFeatures\n",
    "from sklearn.decomposition import PCA\n",
    "from sklearn.utils import resample\n",
    "from keras.layers import Dense,BatchNormalization,Input,Convolution1D,GRU,Dropout\n",
    "#from keras.models import Model\n",
    "import keras\n",
    "#import pdb\n",
    "from sklearn.metrics import accuracy_score,f1_score,roc_auc_score,recall_score,precision_score\n",
    "import warnings\n",
    "import matplotlib.pyplot as plt\n",
    "import deeplift"
   ]
  },
  {
   "cell_type": "markdown",
   "metadata": {},
   "source": [
    "data obtained earlier using Michael's code:"
   ]
  },
  {
   "cell_type": "code",
   "execution_count": 2,
   "metadata": {},
   "outputs": [],
   "source": [
    "collapsed_shifted = pd.read_csv('collapsed_shifted.csv',index_col=0)\n",
    "event_idx = pd.read_csv('event_idx.csv',header=None,index_col=0)"
   ]
  },
  {
   "cell_type": "code",
   "execution_count": 3,
   "metadata": {},
   "outputs": [
    {
     "name": "stdout",
     "output_type": "stream",
     "text": [
      "Creating train test split...\n"
     ]
    }
   ],
   "source": [
    "print ('Creating train test split...')\n",
    "X_train,X_test,Y_train,Y_test = train_test_split(collapsed_shifted,event_idx,stratify=None,test_size=.20,shuffle=False)\n",
    "X_train,X_val,Y_train,Y_val = train_test_split(X_train,Y_train,test_size=.20,stratify=None,shuffle=False)\n",
    "\n",
    "#Creating Copies of Data Frames these will be useful later for debugging\n",
    "X_train_df = X_train.copy(True)\n",
    "Y_train_df = Y_train.copy(True)\n",
    "Y_val_df = Y_val.copy(True)\n",
    "X_train  = np.array(X_train)\n",
    "X_val = np.array(X_val)\n",
    "X_test = np.array(X_test)"
   ]
  },
  {
   "cell_type": "code",
   "execution_count": 4,
   "metadata": {},
   "outputs": [
    {
     "name": "stdout",
     "output_type": "stream",
     "text": [
      "Length of X_train before smote\n",
      "2780\n",
      "Number of Positives before smote\n",
      "1    166\n",
      "dtype: int64\n",
      "Performing Oversampling/Undersampling...\n"
     ]
    },
    {
     "name": "stderr",
     "output_type": "stream",
     "text": [
      "/anaconda/lib/python3.6/site-packages/sklearn/utils/validation.py:578: DataConversionWarning: A column-vector y was passed when a 1d array was expected. Please change the shape of y to (n_samples, ), for example using ravel().\n",
      "  y = column_or_1d(y, warn=True)\n"
     ]
    },
    {
     "name": "stdout",
     "output_type": "stream",
     "text": [
      "Length of X_train after smote\n",
      "4515\n",
      "Number of Positive samples after smote\n",
      "2605\n",
      "Done!\n"
     ]
    }
   ],
   "source": [
    "pca = PCA(whiten=True)\n",
    "X_train = pca.fit_transform(X_train)\n",
    "X_test = pca.transform(X_test)\n",
    "X_val = pca.transform(X_val)\n",
    "\n",
    "print ('Length of X_train before smote')\n",
    "print (len(X_train))\n",
    "print ('Number of Positives before smote')\n",
    "print (Y_train.sum())\n",
    "\n",
    "\n",
    "print ('Performing Oversampling/Undersampling...')\n",
    "s = SMOTEENN()\n",
    "X_train,Y_train= s.fit_sample(X_train,Y_train)\n",
    "\n",
    "print ('Length of X_train after smote')\n",
    "print (len(X_train))\n",
    "\n",
    "print ('Number of Positive samples after smote')\n",
    "print (Y_train.sum())\n",
    "\n",
    "# print ('Proportion after smote {}'.format(sum(Y_train)/len(Y_train))\n",
    "\n",
    "X_train = X_train.reshape(-1,X_train.shape[1],1)\n",
    "X_test = X_test.reshape(-1,X_test.shape[1],1)\n",
    "X_val = X_val.reshape(-1,X_val.shape[1],1)\n",
    "print ('Done!')"
   ]
  },
  {
   "cell_type": "markdown",
   "metadata": {},
   "source": [
    "## Keras Model"
   ]
  },
  {
   "cell_type": "markdown",
   "metadata": {},
   "source": [
    "Rewrite it to be compatiable with Deeplift.\n",
    "\n",
    "There is no MaxoutDense in the Deeplift conversion part, so I skipped them for now."
   ]
  },
  {
   "cell_type": "code",
   "execution_count": 5,
   "metadata": {},
   "outputs": [],
   "source": [
    "#from keras.regularizers import l1l2\n",
    "from keras.constraints import maxnorm\n",
    "from keras.layers import MaxoutDense\n",
    "from keras.layers import Flatten\n",
    "from keras.layers import MaxPooling1D\n",
    "\n",
    "def simple_keras_model(original):\n",
    "    model = Sequential()\n",
    "    model.add(Convolution1D(512, 5, border_mode='same',activation='relu',init='he_normal',W_constraint=maxnorm(0.5),input_shape =(original.shape[1],1)))\n",
    "    model.add(BatchNormalization())\n",
    "    model.add(MaxPooling1D())\n",
    "    model.add(Dropout(.55))\n",
    "    model.add(Convolution1D(512,5,border_mode='same',activation='relu',init='he_normal',W_constraint=maxnorm(0.5)))\n",
    "    model.add(BatchNormalization())\n",
    "    model.add(MaxPooling1D())\n",
    "    model.add(Dropout(.55))\n",
    "    model.add(Convolution1D(256,5,border_mode='same',activation='relu',init='he_normal',W_constraint=maxnorm(0.5)))\n",
    "    model.add(BatchNormalization())\n",
    "    model.add(Dropout(.55))\n",
    "    model.add(Convolution1D(128,5,border_mode='same',activation='relu',init='he_normal',W_constraint=maxnorm(0.5)))\n",
    "    model.add(BatchNormalization())\n",
    "    model.add(Dropout(.55))\n",
    "    model.add(Convolution1D(128,3,border_mode='same',activation='relu',init='he_normal'))\n",
    "    model.add(BatchNormalization())\n",
    "    model.add(Dropout(.35))\n",
    "    model.add(Convolution1D(128,3,border_mode='same',activation='relu',init='he_normal'))\n",
    "    model.add(BatchNormalization())\n",
    "    model.add(Dropout(.35))\n",
    "    model.add(Convolution1D(128,3,border_mode='same',activation='relu',init='he_normal'))\n",
    "    model.add(BatchNormalization())\n",
    "    model.add(Dropout(.35))\n",
    "    model.add(Convolution1D(128,3,border_mode='same',activation='relu',init='he_normal'))\n",
    "    model.add(BatchNormalization())\n",
    "    model.add(Dropout(.35))\n",
    "    \n",
    "    \n",
    "    \n",
    "    model.add(Flatten())\n",
    "    model.add(Dense(1,activation='sigmoid'))\n",
    "    \n",
    "    \n",
    "    #my_model = Model([original_input], output=output)\n",
    "    optimizer_adam = keras.optimizers.adam(0.001) \n",
    "    model.compile(loss='binary_crossentropy', optimizer=optimizer_adam, metrics=['accuracy'])\n",
    "\n",
    "    return(model)\n"
   ]
  },
  {
   "cell_type": "code",
   "execution_count": 6,
   "metadata": {},
   "outputs": [
    {
     "name": "stdout",
     "output_type": "stream",
     "text": [
      "Epoch 1/20\n",
      "4515/4515 [==============================] - 45s - loss: 0.7748 - acc: 0.6660    \n",
      "Epoch 2/20\n",
      "4515/4515 [==============================] - 42s - loss: 0.5313 - acc: 0.7688    \n",
      "Epoch 3/20\n",
      "4515/4515 [==============================] - 45s - loss: 0.3889 - acc: 0.8412    \n",
      "Epoch 4/20\n",
      "4515/4515 [==============================] - 42s - loss: 0.3115 - acc: 0.8711    \n",
      "Epoch 5/20\n",
      "4515/4515 [==============================] - 42s - loss: 0.2485 - acc: 0.9034    \n",
      "Epoch 6/20\n",
      "4515/4515 [==============================] - 42s - loss: 0.1974 - acc: 0.9238    \n",
      "Epoch 7/20\n",
      "4515/4515 [==============================] - 43s - loss: 0.1650 - acc: 0.9367    \n",
      "Epoch 8/20\n",
      "4515/4515 [==============================] - 45s - loss: 0.1559 - acc: 0.9382    \n",
      "Epoch 9/20\n",
      "4515/4515 [==============================] - 47s - loss: 0.1178 - acc: 0.9548    \n",
      "Epoch 10/20\n",
      "4515/4515 [==============================] - 45s - loss: 0.1340 - acc: 0.9499    \n",
      "Epoch 11/20\n",
      "4515/4515 [==============================] - 44s - loss: 0.1140 - acc: 0.9570    \n",
      "Epoch 12/20\n",
      "4515/4515 [==============================] - 54s - loss: 0.1019 - acc: 0.9628    \n",
      "Epoch 13/20\n",
      "4515/4515 [==============================] - 60s - loss: 0.0981 - acc: 0.9617    \n",
      "Epoch 14/20\n",
      "4515/4515 [==============================] - 52s - loss: 0.0888 - acc: 0.9672    \n",
      "Epoch 15/20\n",
      "4515/4515 [==============================] - 53s - loss: 0.0889 - acc: 0.9670    \n",
      "Epoch 16/20\n",
      "4515/4515 [==============================] - 43s - loss: 0.0720 - acc: 0.9745    \n",
      "Epoch 17/20\n",
      "4515/4515 [==============================] - 46s - loss: 0.0674 - acc: 0.9730    \n",
      "Epoch 18/20\n",
      "4515/4515 [==============================] - 46s - loss: 0.0680 - acc: 0.9765    \n",
      "Epoch 19/20\n",
      "4515/4515 [==============================] - 47s - loss: 0.0454 - acc: 0.9845    \n",
      "Epoch 20/20\n",
      "4515/4515 [==============================] - 43s - loss: 0.0656 - acc: 0.9770    \n"
     ]
    },
    {
     "data": {
      "text/plain": [
       "<keras.callbacks.History at 0x1a2adda080>"
      ]
     },
     "execution_count": 6,
     "metadata": {},
     "output_type": "execute_result"
    }
   ],
   "source": [
    "import tensorflow as tf\n",
    "from keras.models import Sequential\n",
    "my_model = simple_keras_model(X_train)\n",
    "my_model.fit(X_train,Y_train,nb_epoch=20,batch_size=128)"
   ]
  },
  {
   "cell_type": "code",
   "execution_count": 36,
   "metadata": {},
   "outputs": [
    {
     "name": "stdout",
     "output_type": "stream",
     "text": [
      "____________________________________________________________________________________________________\n",
      "Layer (type)                     Output Shape          Param #     Connected to                     \n",
      "====================================================================================================\n",
      "convolution1d_1 (Convolution1D)  (None, 18, 512)       3072        convolution1d_input_1[0][0]      \n",
      "____________________________________________________________________________________________________\n",
      "batchnormalization_1 (BatchNorma (None, 18, 512)       2048        convolution1d_1[0][0]            \n",
      "____________________________________________________________________________________________________\n",
      "maxpooling1d_1 (MaxPooling1D)    (None, 9, 512)        0           batchnormalization_1[0][0]       \n",
      "____________________________________________________________________________________________________\n",
      "dropout_1 (Dropout)              (None, 9, 512)        0           maxpooling1d_1[0][0]             \n",
      "____________________________________________________________________________________________________\n",
      "convolution1d_2 (Convolution1D)  (None, 9, 512)        1311232     dropout_1[0][0]                  \n",
      "____________________________________________________________________________________________________\n",
      "batchnormalization_2 (BatchNorma (None, 9, 512)        2048        convolution1d_2[0][0]            \n",
      "____________________________________________________________________________________________________\n",
      "maxpooling1d_2 (MaxPooling1D)    (None, 4, 512)        0           batchnormalization_2[0][0]       \n",
      "____________________________________________________________________________________________________\n",
      "dropout_2 (Dropout)              (None, 4, 512)        0           maxpooling1d_2[0][0]             \n",
      "____________________________________________________________________________________________________\n",
      "convolution1d_3 (Convolution1D)  (None, 4, 256)        655616      dropout_2[0][0]                  \n",
      "____________________________________________________________________________________________________\n",
      "batchnormalization_3 (BatchNorma (None, 4, 256)        1024        convolution1d_3[0][0]            \n",
      "____________________________________________________________________________________________________\n",
      "dropout_3 (Dropout)              (None, 4, 256)        0           batchnormalization_3[0][0]       \n",
      "____________________________________________________________________________________________________\n",
      "convolution1d_4 (Convolution1D)  (None, 4, 128)        163968      dropout_3[0][0]                  \n",
      "____________________________________________________________________________________________________\n",
      "batchnormalization_4 (BatchNorma (None, 4, 128)        512         convolution1d_4[0][0]            \n",
      "____________________________________________________________________________________________________\n",
      "dropout_4 (Dropout)              (None, 4, 128)        0           batchnormalization_4[0][0]       \n",
      "____________________________________________________________________________________________________\n",
      "convolution1d_5 (Convolution1D)  (None, 4, 128)        49280       dropout_4[0][0]                  \n",
      "____________________________________________________________________________________________________\n",
      "batchnormalization_5 (BatchNorma (None, 4, 128)        512         convolution1d_5[0][0]            \n",
      "____________________________________________________________________________________________________\n",
      "dropout_5 (Dropout)              (None, 4, 128)        0           batchnormalization_5[0][0]       \n",
      "____________________________________________________________________________________________________\n",
      "convolution1d_6 (Convolution1D)  (None, 4, 128)        49280       dropout_5[0][0]                  \n",
      "____________________________________________________________________________________________________\n",
      "batchnormalization_6 (BatchNorma (None, 4, 128)        512         convolution1d_6[0][0]            \n",
      "____________________________________________________________________________________________________\n",
      "dropout_6 (Dropout)              (None, 4, 128)        0           batchnormalization_6[0][0]       \n",
      "____________________________________________________________________________________________________\n",
      "convolution1d_7 (Convolution1D)  (None, 4, 128)        49280       dropout_6[0][0]                  \n",
      "____________________________________________________________________________________________________\n",
      "batchnormalization_7 (BatchNorma (None, 4, 128)        512         convolution1d_7[0][0]            \n",
      "____________________________________________________________________________________________________\n",
      "dropout_7 (Dropout)              (None, 4, 128)        0           batchnormalization_7[0][0]       \n",
      "____________________________________________________________________________________________________\n",
      "convolution1d_8 (Convolution1D)  (None, 4, 128)        49280       dropout_7[0][0]                  \n",
      "____________________________________________________________________________________________________\n",
      "batchnormalization_8 (BatchNorma (None, 4, 128)        512         convolution1d_8[0][0]            \n",
      "____________________________________________________________________________________________________\n",
      "dropout_8 (Dropout)              (None, 4, 128)        0           batchnormalization_8[0][0]       \n",
      "____________________________________________________________________________________________________\n",
      "flatten_1 (Flatten)              (None, 512)           0           dropout_8[0][0]                  \n",
      "____________________________________________________________________________________________________\n",
      "dense_1 (Dense)                  (None, 1)             513         flatten_1[0][0]                  \n",
      "====================================================================================================\n",
      "Total params: 2,339,201\n",
      "Trainable params: 2,335,361\n",
      "Non-trainable params: 3,840\n",
      "____________________________________________________________________________________________________\n"
     ]
    }
   ],
   "source": [
    "my_model.summary()"
   ]
  },
  {
   "cell_type": "markdown",
   "metadata": {},
   "source": [
    "## Deeplift"
   ]
  },
  {
   "cell_type": "markdown",
   "metadata": {},
   "source": [
    "Adjusted from the code provided by the authors of the paper [https://arxiv.org/abs/1704.02685]:\n",
    "https://github.com/kundajelab/deeplift/blob/tensorflow/deeplift/conversion/keras_conversion.py"
   ]
  },
  {
   "cell_type": "code",
   "execution_count": 7,
   "metadata": {},
   "outputs": [
    {
     "name": "stdout",
     "output_type": "stream",
     "text": [
      "No reference provided - using zeros\n",
      "Done 0\n",
      "Done 1000\n",
      "Done 2000\n",
      "Done 3000\n",
      "Done 4000\n"
     ]
    }
   ],
   "source": [
    "#Convert a keras sequential model\n",
    "import deeplift\n",
    "from deeplift.conversion import keras_conversion as kc\n",
    "#MxtsMode defines the method for computing importance scores. Other supported values are:\n",
    "#Gradient, DeconvNet, GuidedBackprop and GuidedBackpropDeepLIFT (a hybrid of GuidedBackprop and DeepLIFT where\n",
    "#negative multipliers are ignored during backpropagation)\n",
    "deeplift_model = kc.convert_sequential_model(\n",
    "                    my_model,\n",
    "                    nonlinear_mxts_mode=deeplift.blobs.NonlinearMxtsMode.DeepLIFT)\n",
    "\n",
    "#Specify the index of the layer to compute the importance scores of.\n",
    "#In the example below, we find scores for the input layer, which is idx 0 in deeplift_model.get_layers()\n",
    "find_scores_layer_idx = 0\n",
    "\n",
    "#Compile the function that computes the importance scores\n",
    "#For sigmoid or softmax outputs, target_layer_idx should be -2 (the default)\n",
    "#(See \"a note on final activation layers\" in https://arxiv.org/pdf/1605.01713v2.pdf for justification)\n",
    "#For regression tasks with a linear output, target_layer_idx should be -1\n",
    "#(which simply refers to the last layer)\n",
    "#FYI: In the case of MxtsMode.DeepLIFT, the importance scores are also called \"contribution scores\"\n",
    "#If you want the multipliers instead of the contribution scores, you can use get_target_multipliers_func\n",
    "deeplift_contribs_func = deeplift_model.get_target_contribs_func(\n",
    "                            find_scores_layer_idx=find_scores_layer_idx,\n",
    "                            target_layer_idx=-2)\n",
    "\n",
    "#compute scores on inputs\n",
    "#input_data_list is a list containing the data for different input layers\n",
    "#eg: for MNIST, there is one input layer with with dimensions 1 x 28 x 28\n",
    "#In the example below, let X be an array with dimension n x 1 x 28 x 28 where n is the number of examples\n",
    "#task_idx represents the index of the node in the output layer that we wish to compute scores.\n",
    "#Eg: if the output is a 10-way softmax, and task_idx is 0, we will compute scores for the first softmax class\n",
    "scores = np.array(deeplift_contribs_func(task_idx=0,\n",
    "                                         input_data_list=[X_train],\n",
    "                                         batch_size=10,\n",
    "                                         progress_update=1000))"
   ]
  },
  {
   "cell_type": "code",
   "execution_count": 8,
   "metadata": {},
   "outputs": [],
   "source": [
    "s = scores.reshape([scores.shape[0],scores.shape[1]])"
   ]
  },
  {
   "cell_type": "markdown",
   "metadata": {},
   "source": [
    "## Results"
   ]
  },
  {
   "cell_type": "code",
   "execution_count": 38,
   "metadata": {},
   "outputs": [
    {
     "data": {
      "text/plain": [
       "Index(['GoldsteinScale', 'NumMentions', 'avgtone', 'numarticles', 'numsources',\n",
       "       'wit_co', 'unemploy', 'm1v', 'm2v', 'slsi', 'vix', 'dff', 'Open',\n",
       "       'High', 'Low', 'Close', 'Adj Close', 'Volume'],\n",
       "      dtype='object')"
      ]
     },
     "execution_count": 38,
     "metadata": {},
     "output_type": "execute_result"
    }
   ],
   "source": [
    "X_train_df.columns"
   ]
  },
  {
   "cell_type": "code",
   "execution_count": 20,
   "metadata": {},
   "outputs": [
    {
     "data": {
      "image/png": "[encoded data removed]",
      "text/plain": [
       "<matplotlib.figure.Figure at 0x1a2bee5c18>"
      ]
     },
     "metadata": {},
     "output_type": "display_data"
    }
   ],
   "source": [
    "plt.figure()\n",
    "data=[s[i] for i in range(18)]\n",
    "plt.boxplot(data)\n",
    "plt.show()"
   ]
  },
  {
   "cell_type": "code",
   "execution_count": 29,
   "metadata": {
    "collapsed": true
   },
   "outputs": [],
   "source": [
    "score_mean = s.mean(axis=0)\n",
    "mean_df = pd.DataFrame(score_mean).T\n",
    "mean_df.columns = X_train_df.columns"
   ]
  },
  {
   "cell_type": "code",
   "execution_count": 30,
   "metadata": {},
   "outputs": [
    {
     "data": {
      "text/html": [
       "<div>\n",
       "<style scoped>\n",
       "    .dataframe tbody tr th:only-of-type {\n",
       "        vertical-align: middle;\n",
       "    }\n",
       "\n",
       "    .dataframe tbody tr th {\n",
       "        vertical-align: top;\n",
       "    }\n",
       "\n",
       "    .dataframe thead th {\n",
       "        text-align: right;\n",
       "    }\n",
       "</style>\n",
       "<table border=\"1\" class=\"dataframe\">\n",
       "  <thead>\n",
       "    <tr style=\"text-align: right;\">\n",
       "      <th></th>\n",
       "      <th>0</th>\n",
       "    </tr>\n",
       "  </thead>\n",
       "  <tbody>\n",
       "    <tr>\n",
       "      <th>NumMentions</th>\n",
       "      <td>-1.582610</td>\n",
       "    </tr>\n",
       "    <tr>\n",
       "      <th>wit_co</th>\n",
       "      <td>-0.933767</td>\n",
       "    </tr>\n",
       "    <tr>\n",
       "      <th>avgtone</th>\n",
       "      <td>-0.892088</td>\n",
       "    </tr>\n",
       "    <tr>\n",
       "      <th>numarticles</th>\n",
       "      <td>-0.838652</td>\n",
       "    </tr>\n",
       "    <tr>\n",
       "      <th>numsources</th>\n",
       "      <td>-0.434477</td>\n",
       "    </tr>\n",
       "    <tr>\n",
       "      <th>m1v</th>\n",
       "      <td>-0.371332</td>\n",
       "    </tr>\n",
       "    <tr>\n",
       "      <th>vix</th>\n",
       "      <td>-0.305149</td>\n",
       "    </tr>\n",
       "    <tr>\n",
       "      <th>slsi</th>\n",
       "      <td>-0.267171</td>\n",
       "    </tr>\n",
       "    <tr>\n",
       "      <th>dff</th>\n",
       "      <td>-0.233404</td>\n",
       "    </tr>\n",
       "    <tr>\n",
       "      <th>m2v</th>\n",
       "      <td>-0.233038</td>\n",
       "    </tr>\n",
       "    <tr>\n",
       "      <th>Volume</th>\n",
       "      <td>0.132667</td>\n",
       "    </tr>\n",
       "    <tr>\n",
       "      <th>High</th>\n",
       "      <td>0.154218</td>\n",
       "    </tr>\n",
       "    <tr>\n",
       "      <th>Low</th>\n",
       "      <td>0.406987</td>\n",
       "    </tr>\n",
       "    <tr>\n",
       "      <th>unemploy</th>\n",
       "      <td>0.414492</td>\n",
       "    </tr>\n",
       "    <tr>\n",
       "      <th>Adj Close</th>\n",
       "      <td>0.422244</td>\n",
       "    </tr>\n",
       "    <tr>\n",
       "      <th>Close</th>\n",
       "      <td>0.451786</td>\n",
       "    </tr>\n",
       "    <tr>\n",
       "      <th>GoldsteinScale</th>\n",
       "      <td>0.462631</td>\n",
       "    </tr>\n",
       "    <tr>\n",
       "      <th>Open</th>\n",
       "      <td>0.862499</td>\n",
       "    </tr>\n",
       "  </tbody>\n",
       "</table>\n",
       "</div>"
      ],
      "text/plain": [
       "                       0\n",
       "NumMentions    -1.582610\n",
       "wit_co         -0.933767\n",
       "avgtone        -0.892088\n",
       "numarticles    -0.838652\n",
       "numsources     -0.434477\n",
       "m1v            -0.371332\n",
       "vix            -0.305149\n",
       "slsi           -0.267171\n",
       "dff            -0.233404\n",
       "m2v            -0.233038\n",
       "Volume          0.132667\n",
       "High            0.154218\n",
       "Low             0.406987\n",
       "unemploy        0.414492\n",
       "Adj Close       0.422244\n",
       "Close           0.451786\n",
       "GoldsteinScale  0.462631\n",
       "Open            0.862499"
      ]
     },
     "execution_count": 30,
     "metadata": {},
     "output_type": "execute_result"
    }
   ],
   "source": [
    "mean_df.T.sort_values(by=0)"
   ]
  },
  {
   "cell_type": "code",
   "execution_count": 31,
   "metadata": {},
   "outputs": [
    {
     "data": {
      "text/html": [
       "<div>\n",
       "<style scoped>\n",
       "    .dataframe tbody tr th:only-of-type {\n",
       "        vertical-align: middle;\n",
       "    }\n",
       "\n",
       "    .dataframe tbody tr th {\n",
       "        vertical-align: top;\n",
       "    }\n",
       "\n",
       "    .dataframe thead th {\n",
       "        text-align: right;\n",
       "    }\n",
       "</style>\n",
       "<table border=\"1\" class=\"dataframe\">\n",
       "  <thead>\n",
       "    <tr style=\"text-align: right;\">\n",
       "      <th></th>\n",
       "      <th>0</th>\n",
       "    </tr>\n",
       "  </thead>\n",
       "  <tbody>\n",
       "    <tr>\n",
       "      <th>Volume</th>\n",
       "      <td>0.132667</td>\n",
       "    </tr>\n",
       "    <tr>\n",
       "      <th>High</th>\n",
       "      <td>0.154218</td>\n",
       "    </tr>\n",
       "    <tr>\n",
       "      <th>m2v</th>\n",
       "      <td>0.233038</td>\n",
       "    </tr>\n",
       "    <tr>\n",
       "      <th>dff</th>\n",
       "      <td>0.233404</td>\n",
       "    </tr>\n",
       "    <tr>\n",
       "      <th>slsi</th>\n",
       "      <td>0.267171</td>\n",
       "    </tr>\n",
       "    <tr>\n",
       "      <th>vix</th>\n",
       "      <td>0.305149</td>\n",
       "    </tr>\n",
       "    <tr>\n",
       "      <th>m1v</th>\n",
       "      <td>0.371332</td>\n",
       "    </tr>\n",
       "    <tr>\n",
       "      <th>Low</th>\n",
       "      <td>0.406987</td>\n",
       "    </tr>\n",
       "    <tr>\n",
       "      <th>unemploy</th>\n",
       "      <td>0.414492</td>\n",
       "    </tr>\n",
       "    <tr>\n",
       "      <th>Adj Close</th>\n",
       "      <td>0.422244</td>\n",
       "    </tr>\n",
       "    <tr>\n",
       "      <th>numsources</th>\n",
       "      <td>0.434477</td>\n",
       "    </tr>\n",
       "    <tr>\n",
       "      <th>Close</th>\n",
       "      <td>0.451786</td>\n",
       "    </tr>\n",
       "    <tr>\n",
       "      <th>GoldsteinScale</th>\n",
       "      <td>0.462631</td>\n",
       "    </tr>\n",
       "    <tr>\n",
       "      <th>numarticles</th>\n",
       "      <td>0.838652</td>\n",
       "    </tr>\n",
       "    <tr>\n",
       "      <th>Open</th>\n",
       "      <td>0.862499</td>\n",
       "    </tr>\n",
       "    <tr>\n",
       "      <th>avgtone</th>\n",
       "      <td>0.892088</td>\n",
       "    </tr>\n",
       "    <tr>\n",
       "      <th>wit_co</th>\n",
       "      <td>0.933767</td>\n",
       "    </tr>\n",
       "    <tr>\n",
       "      <th>NumMentions</th>\n",
       "      <td>1.582610</td>\n",
       "    </tr>\n",
       "  </tbody>\n",
       "</table>\n",
       "</div>"
      ],
      "text/plain": [
       "                       0\n",
       "Volume          0.132667\n",
       "High            0.154218\n",
       "m2v             0.233038\n",
       "dff             0.233404\n",
       "slsi            0.267171\n",
       "vix             0.305149\n",
       "m1v             0.371332\n",
       "Low             0.406987\n",
       "unemploy        0.414492\n",
       "Adj Close       0.422244\n",
       "numsources      0.434477\n",
       "Close           0.451786\n",
       "GoldsteinScale  0.462631\n",
       "numarticles     0.838652\n",
       "Open            0.862499\n",
       "avgtone         0.892088\n",
       "wit_co          0.933767\n",
       "NumMentions     1.582610"
      ]
     },
     "execution_count": 31,
     "metadata": {},
     "output_type": "execute_result"
    }
   ],
   "source": [
    "mean_df.abs().T.sort_values(by=0)"
   ]
  },
  {
   "cell_type": "markdown",
   "metadata": {},
   "source": [
    "It seems that Gdelt features are all somewhat important, especially 'NumMentions', 'avgtone', and 'GoldsteinScale'. In addition, 'Open' and 'wit_co' are fairly more important compared to other finanical features."
   ]
  },
  {
   "cell_type": "code",
   "execution_count": null,
   "metadata": {
    "collapsed": true
   },
   "outputs": [],
   "source": []
  }
 ],
 "metadata": {
  "kernelspec": {
   "display_name": "Python 3",
   "language": "python",
   "name": "python3"
  },
  "language_info": {
   "codemirror_mode": {
    "name": "ipython",
    "version": 3
   },
   "file_extension": ".py",
   "mimetype": "text/x-python",
   "name": "python",
   "nbconvert_exporter": "python",
   "pygments_lexer": "ipython3",
   "version": "3.6.1"
  }
 },
 "nbformat": 4,
 "nbformat_minor": 2
}
